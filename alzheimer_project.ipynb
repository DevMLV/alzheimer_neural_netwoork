{
  "cells": [
    {
      "cell_type": "markdown",
      "metadata": {
        "id": "view-in-github",
        "colab_type": "text"
      },
      "source": [
        "<a href=\"https://colab.research.google.com/github/DevMLV/alzheimer_neural_netwoork/blob/main/alzheimer_project.ipynb\" target=\"_parent\"><img src=\"https://colab.research.google.com/assets/colab-badge.svg\" alt=\"Open In Colab\"/></a>"
      ]
    },
    {
      "cell_type": "markdown",
      "metadata": {
        "id": "Ia5o0nSua9ZB"
      },
      "source": [
        "#**Utilizzo del DeepLearning per estrarre un modello che ci consente di prevenire l'Alzheimer**.\n",
        "\n",
        "Per il progetto è stato richiesto l'accesso al dataBase ADNI (**Alzheimer's Disease Neuroimaging initiative**). \n",
        "In quanto tali, gli investigatori all'interno dell'ADNI hanno contribuito alla progettazione e all'implementazione dell'ADNI e/o hanno fornito dati ma non hanno partecipato all'analisi o alla stesura di questo rapporto. Un elenco completo degli investigatori ADNI è disponibile all'indirizzo: https://adni.loni.usc.edu/wp-content/uploads/how_to_apply/ADNI_Acknowledgement_List.pdf.\n",
        "\n",
        "Il progetto si suddivide in tre ambiti:\n",
        "\n",
        "1.   Fase di preprocessing;\n",
        "2.   Fase di costruzione del database **TFRecord**;\n",
        "3.   Creazione del modello utilizando le reti neurali (**ResNet3D** e **VGG-16**)\n",
        "\n"
      ]
    },
    {
      "cell_type": "markdown",
      "metadata": {
        "id": "KM09JPR8DGRL"
      },
      "source": [
        "# Setup enviroment"
      ]
    },
    {
      "cell_type": "markdown",
      "metadata": {
        "id": "2s-YGfBADN2B"
      },
      "source": [
        "In questa sezione prevediamo il setup dell'enviroment.\n",
        "\n",
        "Iniziamo con l'instazione della libreria SimpleITK."
      ]
    },
    {
      "cell_type": "code",
      "execution_count": null,
      "metadata": {
        "colab": {
          "base_uri": "https://localhost:8080/"
        },
        "id": "duMERStEC2hS",
        "outputId": "39dd18df-5cb2-4fd1-ae3d-b4372dc5b5d0"
      },
      "outputs": [
        {
          "output_type": "stream",
          "name": "stdout",
          "text": [
            "Looking in indexes: https://pypi.org/simple, https://us-python.pkg.dev/colab-wheels/public/simple/\n",
            "Requirement already satisfied: SimpleITK in /usr/local/lib/python3.7/dist-packages (2.2.0)\n"
          ]
        }
      ],
      "source": [
        "!pip install SimpleITK"
      ]
    },
    {
      "cell_type": "markdown",
      "source": [
        "Proseguiamo con l'importazione delle librerie necessarie."
      ],
      "metadata": {
        "id": "VFa7B3HzFCNR"
      }
    },
    {
      "cell_type": "code",
      "execution_count": null,
      "metadata": {
        "id": "D5mhCfjfa8G9"
      },
      "outputs": [],
      "source": [
        "import SimpleITK as sitk\n",
        "import numpy as np\n",
        "import pandas as pd\n",
        "import matplotlib.pyplot as plt\n",
        "import tensorflow as tf\n",
        "#from dltk.io import preprocessing\n",
        "from skimage import filters\n",
        "import os\n",
        "#from nipype.interfaces import fsl\n",
        "import matplotlib.pyplot as plt\n",
        "from tensorflow import keras\n",
        "from sklearn import metrics as skmetrics\n",
        "from scipy import interp\n",
        "from itertools import cycle\n",
        "import os\n",
        "import json\n",
        "from keras.layers import Conv3D, MaxPooling3D, Input,Flatten,Dense,Dropout, Conv2D, MaxPool2D\n",
        "from keras.models import Model\n",
        "import warnings"
      ]
    },
    {
      "cell_type": "code",
      "execution_count": null,
      "metadata": {
        "colab": {
          "base_uri": "https://localhost:8080/"
        },
        "id": "DI3-JrA6DEWM",
        "outputId": "b563dbc4-0a1f-4782-8542-caa6c15d5ae9"
      },
      "outputs": [
        {
          "output_type": "stream",
          "name": "stdout",
          "text": [
            "Drive already mounted at /content/drive; to attempt to forcibly remount, call drive.mount(\"/content/drive\", force_remount=True).\n"
          ]
        }
      ],
      "source": [
        "from google.colab import drive\n",
        "drive.mount('/content/drive')"
      ]
    },
    {
      "cell_type": "code",
      "execution_count": null,
      "metadata": {
        "id": "a9SFRO7exZb-"
      },
      "outputs": [],
      "source": [
        "from importlib.machinery import SourceFileLoader\n",
        "keras_resnet3d = '/content/drive/MyDrive/ColabNotebooks/progetto/keras-resnet3d/'\n",
        "resnet3d = SourceFileLoader('resnet3d', os.path.join(keras_resnet3d, 'resnet3d/resnet3d.py')).load_module()\n",
        "from resnet3d import Resnet3DBuilder"
      ]
    },
    {
      "cell_type": "markdown",
      "metadata": {
        "id": "_RToK_F3h8vR"
      },
      "source": [
        "# **Fase di PreProcessing**\n",
        "\n",
        "In questa sezione è prevista una fase molto importante del progetto, ovvero il processing delle immagini.\n",
        "Il nostro set di immagini è costituito da **2042** immagini **MRI** di estensione .nii cosi suddivise:\n",
        "\n",
        "1.   MCI (***mild cognitive impairment***): 1206 immagini;\n",
        "2.   AD (***Alzheimer's disease***): 269 immagini;\n",
        "3.   CN (***cognitively normal***): 567 immagini;\n",
        "\n",
        "In questa fase prevederemo i seguenti step:\n",
        "\n",
        "\n",
        "1.   Normalizzazioni delle immagini;\n",
        "2.   Registrazione delle immagini (fase molto importante realizzata con la  \n",
        "     libreria SimpleITK);\n",
        "3.   Fase di rimozione del craino (**Skull-stripping**)"
      ]
    },
    {
      "cell_type": "markdown",
      "metadata": {
        "id": "4BQw-CH-iFV3"
      },
      "source": [
        "## Descrizioni funzioni create per il preprocessing"
      ]
    },
    {
      "cell_type": "markdown",
      "metadata": {
        "id": "6ZuoiAXOiQex"
      },
      "source": [
        "La prima parte include l'importazione delle librerie necessarie per la realizzazione del processing delle immagini."
      ]
    },
    {
      "cell_type": "markdown",
      "metadata": {
        "id": "tKFAersNigB_"
      },
      "source": [
        "Tra queste librerie è importante segnalare la \"SimpleITK\" utile per la fase di registrazione delle immagini.\n",
        "Nelle prossime sezioni spiegheremo perchè è cosi importante questa fase, ma adesso è necessario evidenziare che l'installazione della libreria **SimpleITK** crea non pochi grattacapi.\n",
        "L'installazione è abbastanza lunga (impiega circa 4 ore) e per tale installazione è stata seguita la guida presente al link:\n",
        "\n",
        "https://gist.github.com/vfmatzkin/0fcc79a61f9bafcc2113fd83a8900937\n",
        "\n",
        "L'installazione della libreria e tutta la fase di pre-processing è stata realizzata su **Ubuntu 20.4**.\n",
        "\n",
        "***Attenzione: Per l'installazione ho seguito diverse guide ma tutte con esito assolutamente negativo. L'unica che mi ha dato in effetti la possibilità di utilizzarla è la guida riportata nel link sopra***."
      ]
    },
    {
      "cell_type": "code",
      "execution_count": null,
      "metadata": {
        "id": "wcwShuLYa8G_"
      },
      "outputs": [],
      "source": [
        "def ricampiona_img(itk_image, out_spacing=[2.0, 2.0, 2.0]):\n",
        "    ''' Questa funzione ricampiona le immagini in voxel isotropici da 2 mm.\n",
        "      \n",
        "        Parametri:\n",
        "            itk_image -- Immagine in simpleITK format\n",
        "            out_spacing -- Rappresentazione spaziale di ogni voxel\n",
        "            \n",
        "        Output: \n",
        "            Restituisce immagine in simpleITK format\n",
        "    '''\n",
        "    \n",
        "    # Resample images to 2mm spacing with SimpleITK\n",
        "    original_spacing = itk_image.GetSpacing()\n",
        "    original_size = itk_image.GetSize()\n",
        "\n",
        "    out_size = [\n",
        "        int(np.round(original_size[0] * (original_spacing[0] / out_spacing[0]))),\n",
        "        int(np.round(original_size[1] * (original_spacing[1] / out_spacing[1]))),\n",
        "        int(np.round(original_size[2] * (original_spacing[2] / out_spacing[2])))]\n",
        "\n",
        "    resample = sitk.ResampleImageFilter()\n",
        "    resample.SetOutputSpacing(out_spacing)\n",
        "    resample.SetSize(out_size)\n",
        "    resample.SetOutputDirection(itk_image.GetDirection())\n",
        "    resample.SetOutputOrigin(itk_image.GetOrigin())\n",
        "    resample.SetTransform(sitk.Transform())\n",
        "    resample.SetDefaultPixelValue(itk_image.GetPixelIDValue())\n",
        "\n",
        "    resample.SetInterpolator(sitk.sitkBSpline)\n",
        "\n",
        "    return resample.Execute(itk_image)"
      ]
    },
    {
      "cell_type": "markdown",
      "metadata": {
        "id": "SIbeTh9nkR8T"
      },
      "source": [
        "La funzione **ricampiona_img** ci consente di ricampionare a una risoluzione ***isotropica di 2 mm³***, il che significa che ogni voxel rappresenterebbe 2 mm³ di spazio nel mondo \"reale\"."
      ]
    },
    {
      "cell_type": "code",
      "execution_count": null,
      "metadata": {
        "id": "8MOupVCxa8HA"
      },
      "outputs": [],
      "source": [
        "def registra_img(sitk_fixed, sitk_moving,bspline=False):\n",
        "    ''' Registrazione delle immagini utilizzando SimpleElastix\n",
        "        Utilizzo \"affine transformation\".\n",
        "        \n",
        "        Parametri:\n",
        "            Immagine di fix (di riferimento - sitk_fixed) -- Immagine atlas (sitk .nii)\n",
        "            dimmagine di movimento (sitk_moving) -- Immagine da registrare\n",
        "                           (sitk .nii)\n",
        "    '''\n",
        "    \n",
        "    elastixImageFilter = sitk.ElastixImageFilter()\n",
        "    elastixImageFilter.SetFixedImage(sitk_fixed)\n",
        "    elastixImageFilter.SetMovingImage(sitk_moving)\n",
        "\n",
        "    parameterMapVector = sitk.VectorOfParameterMap()\n",
        "    parameterMapVector.append(sitk.GetDefaultParameterMap(\"affine\"))\n",
        "    if bspline:\n",
        "        parameterMapVector.append(sitk.GetDefaultParameterMap(\"bspline\"))\n",
        "    elastixImageFilter.SetParameterMap(parameterMapVector)\n",
        "\n",
        "    elastixImageFilter.Execute()\n",
        "    return elastixImageFilter.GetResultImage()"
      ]
    },
    {
      "cell_type": "markdown",
      "metadata": {
        "id": "do7ISOZcmgD-"
      },
      "source": [
        "La funzione **registra_img**  ci consente di effettuare la fase di registrazione delle immagini.\n",
        "La fase di registrazione consiste in effetti ad adattare l'immagine letta (detta moving), ad un immagine di riferimento (chiamata solitamente atlante).\n",
        "L'adattamento ci permette di individuare le regioni in comune ad entrambe le immagini che rappresentano le stesse strutture anatomiche.\n",
        "Per una CNN individuare una determinata regione dell'immagine come rilevante è più semplice se sono adattate ad una di riferimento.\n",
        "In più, le immagini che riceviamo dal database di riferimento (ADNI) hanno formato e posizioni diverse, queste fase ci consente di adattarle tutte alla stessa maniera."
      ]
    },
    {
      "cell_type": "code",
      "execution_count": null,
      "metadata": {
        "id": "jRRZ2pgxa8HB"
      },
      "outputs": [],
      "source": [
        "def rimozione_cranio_nii(original_img, destination_img, frac=0.3):\n",
        "    ''' Funzione che elimina la parte del cranio dell'immagine data e restituisce come output una nuova immagine\n",
        "        Uses FSL-BET \n",
        "        (https://fsl.fmrib.ox.ac.uk/fsl/fslwiki/BET/UserGuide#Main_bet2_options:)\n",
        "        \n",
        "        Parameters:\n",
        "            original_img -- Original nii image\n",
        "            destination_img -- The new skull-stripped image\n",
        "            frac -- Fractional intensity threshold for BET\n",
        "    '''\n",
        "    \n",
        "    btr = fsl.BET()\n",
        "    btr.inputs.in_file = original_img\n",
        "    btr.inputs.frac = frac\n",
        "    btr.inputs.out_file = destination_img\n",
        "    btr.cmdline\n",
        "    res = btr.run()"
      ]
    },
    {
      "cell_type": "markdown",
      "metadata": {
        "id": "q_eoXSv7olb4"
      },
      "source": [
        "La funzione **rimozione_cranio_nii** ci consente di rimuovere la parte del craino dell'immagini .nii data in input.\n",
        "L'obiettivo è ottenere un'immagine finale il più pulita possibile, contenente solo le informazioni rilevanti per il compito da svolgere. Ovviamente, nel caso dell'AD, nessuno dei biomarcatori più rilevanti si trova nel cranio. "
      ]
    },
    {
      "cell_type": "code",
      "execution_count": null,
      "metadata": {
        "id": "WKOH0ye7a8HF"
      },
      "outputs": [],
      "source": [
        "def register_and_save(filename, path, atlas):\n",
        "    ''' Funzione che processa il set di immagini fornito in input\n",
        "        \n",
        "        Parameters:\n",
        "            filename -- Nome del file .nii \n",
        "            path -- Percorso dove le immagini sono collocate\n",
        "            atlas -- Immagine di riferimento\n",
        "    '''\n",
        "    \n",
        "    # separte the name of the file by '_'\n",
        "    splitted_name = filename.strip().split('_')\n",
        "    # sometimes residual MacOS files appear; ignore them\n",
        "    if splitted_name[0] == '.': return\n",
        "    \n",
        "    dim=len(splitted_name)-1\n",
        "    splitted_name_app = splitted_name[dim]\n",
        "    splitted_name_app = splitted_name_app.strip().split('.')\n",
        "    # save the image ID\n",
        "    image_ID = splitted_name_app[0]\n",
        "    \n",
        "    # sometimes empty files appear, just ignore them\n",
        "    if image_ID == '': return\n",
        "    # transform the ID into a int64 numpy variable for indexing\n",
        "        \n",
        "    # with the ID, index the information we need\n",
        "    row_index = description.index[description['Image Data ID'] == image_ID].tolist()[0]\n",
        "    # obtain the corresponding row in the dataframe\n",
        "    row = description.iloc[row_index]\n",
        "    # get the label\n",
        "    label = row['Group']\n",
        "    \n",
        "    # prepare the origin path\n",
        "    complete_file_path = os.path.join(path, filename)\n",
        "    # load sitk image\n",
        "    sitk_moving = sitk.ReadImage(complete_file_path)\n",
        "    sitk_moving = ricampiona_img(sitk_moving)\n",
        "    \n",
        "    registrated = registra_img(atlas, sitk_moving)\n",
        "    \n",
        "    # prepare the destination path\n",
        "    complete_new_path = os.path.join(REG_DB, \n",
        "                                     label,\n",
        "                                     filename)\n",
        "    sitk.WriteImage(registrated, complete_new_path)\n",
        "    complete_new_skull = complete_new_path+\"-skull\"\n",
        "    rimozione_cranio_nii(complete_new_path, complete_new_skull, frac=0.2)\n",
        "    os.remove(complete_file_path)"
      ]
    },
    {
      "cell_type": "markdown",
      "metadata": {
        "id": "VFW86WTTpKCd"
      },
      "source": [
        "La funzione **register_and_save** rappresenta in effetti il corpo del processing delle immagini.\n",
        "Richiama tutte le funzioni spiegate in precedenza:\n",
        "\n",
        "\n",
        "1.   ***ricampiona_img***: Ricampionamento immagini;\n",
        "2.   ***registra_img***: Registrazione delle immagini;\n",
        "3.   ***rimozione_cranio_nii***: Rimozione del craino dalla immagini fornite. \n",
        "\n",
        "\n"
      ]
    },
    {
      "cell_type": "markdown",
      "metadata": {
        "id": "xGArnJE775zv"
      },
      "source": [
        "## Esempio di utilizzo delle librerie di pre-processing"
      ]
    },
    {
      "cell_type": "markdown",
      "metadata": {
        "id": "St-PX4bY75zv"
      },
      "source": [
        "Utilizzo della libreria SimpleITK per visualizzare un immagine di esempio MRI fornita da ADNI."
      ]
    },
    {
      "cell_type": "code",
      "execution_count": null,
      "metadata": {
        "outputId": "fd8bf231-705e-4bd3-8586-28879c12b741",
        "id": "XXAsgaNjUaww"
      },
      "outputs": [
        {
          "data": {
            "image/png": "[encoded data removed]",
            "text/plain": [
              "<Figure size 432x288 with 1 Axes>"
            ]
          },
          "metadata": {
            "needs_background": "light"
          },
          "output_type": "display_data"
        }
      ],
      "source": [
        "file_nii=\"/media/sf_D_DRIVE/TESI/ADNI/ADNI_002_S_0295_MR_MPR__GradWarp__B1_Correction__N3__Scaled_Br_20070319113623975_S13408_I45108.nii\"\n",
        "sitk_image = sitk.ReadImage(file_nii)\n",
        "# trasforma immagine in un numpy array\n",
        "img = sitk.GetArrayFromImage(sitk_image)\n",
        "# visualizza immagine\n",
        "plt.imshow(img[:, :, 70], cmap='gray')\n",
        "plt.show()"
      ]
    },
    {
      "cell_type": "markdown",
      "metadata": {
        "id": "xlGa8-Zt75zx"
      },
      "source": [
        "Utilizzo della libreria matplotlib.pyplot per la visualizzazione dell'immagine .nii caricata con la libreria SimpleITK.\n",
        "Ci sono tre dimensioni che possono essere utilizzate per il slicing. Nell'esempio è stata utilizzata la sezione 70 della terza dimensione."
      ]
    },
    {
      "cell_type": "markdown",
      "metadata": {
        "id": "gZbWGjBI75zy"
      },
      "source": [
        "Visualizziamo adesso l'immagine utilizzata come riferimento (ATLAS MNI 305) (scaricata dal sito https://www.mcgill.ca/bic/software/tools-data-analysis/anatomical-mri/atlases/mni-305)"
      ]
    },
    {
      "cell_type": "code",
      "execution_count": null,
      "metadata": {
        "outputId": "ae9d3303-0624-48b5-d96b-65fb623a8540",
        "id": "nKSddjoLUibv"
      },
      "outputs": [
        {
          "data": {
            "image/png": "[encoded data removed]",
            "text/plain": [
              "<Figure size 432x288 with 1 Axes>"
            ]
          },
          "metadata": {
            "needs_background": "light"
          },
          "output_type": "display_data"
        }
      ],
      "source": [
        "atlas = sitk.ReadImage('/media/sf_D_DRIVE/TESI/ATLAS/atlas.nii')\n",
        "# trasforma immagine in un numpy array\n",
        "imgatlas = sitk.GetArrayFromImage(atlas)\n",
        "# visualizza immagine\n",
        "plt.imshow(imgatlas[70, :, :], cmap='gray')\n",
        "plt.show()"
      ]
    },
    {
      "cell_type": "markdown",
      "metadata": {
        "id": "UpXQwUoK75zz"
      },
      "source": [
        "Adesso come esempio vedremo sia la fase di ricampionamento che registrazione dell'immagine.\n",
        "Sarà interessante vedere come l'immagine di movimento (quella in analisi) si adegua all'atlas."
      ]
    },
    {
      "cell_type": "code",
      "execution_count": null,
      "metadata": {
        "id": "E-L4BNJ575zz"
      },
      "outputs": [],
      "source": [
        "atlas = sitk.ReadImage('/media/sf_D_DRIVE/TESI/ATLAS/atlas.nii')\n",
        "atlas = ricampiona_img(atlas)\n",
        "REG_DB = '/media/sf_D_DRIVE/TESI/REGISTERED_TEST'\n",
        "file=\"ADNI_002_S_0295_MR_MPR__GradWarp__B1_Correction__N3__Scaled_Br_20070319113623975_S13408_I45108.nii\"\n",
        "path=\"/media/sf_D_DRIVE/TESI/ADNI\"\n",
        "description = pd.read_csv('/media/sf_D_DRIVE/TESI/ATLAS/ADNI1_Complete_2Yr_1.5T_10_22_2022.csv')\n",
        "register_and_save(file,path,atlas)"
      ]
    },
    {
      "cell_type": "markdown",
      "metadata": {
        "id": "ugBa9qWI75z0"
      },
      "source": [
        "Rivediamo immagine originale:"
      ]
    },
    {
      "cell_type": "code",
      "execution_count": null,
      "metadata": {
        "outputId": "686e0f63-3504-44a1-f012-58e97ff1fbbf",
        "id": "Ksx1POtYUpVz"
      },
      "outputs": [
        {
          "data": {
            "image/png": "[encoded data removed]",
            "text/plain": [
              "<Figure size 432x288 with 1 Axes>"
            ]
          },
          "metadata": {
            "needs_background": "light"
          },
          "output_type": "display_data"
        },
        {
          "data": {
            "text/plain": [
              "(166, 256, 256)"
            ]
          },
          "execution_count": 41,
          "metadata": {},
          "output_type": "execute_result"
        }
      ],
      "source": [
        "file_nii=\"/media/sf_D_DRIVE/TESI/ADNI/ADNI_002_S_0295_MR_MPR__GradWarp__B1_Correction__N3__Scaled_Br_20070319113623975_S13408_I45108.nii\"\n",
        "sitk_image = sitk.ReadImage(file_nii)\n",
        "# trasforma immagine in un numpy array\n",
        "img = sitk.GetArrayFromImage(sitk_image)\n",
        "# visualizza immagine\n",
        "plt.imshow(img[:, :, 70], cmap='gray')\n",
        "plt.show()\n",
        "img.shape"
      ]
    },
    {
      "cell_type": "markdown",
      "metadata": {
        "id": "etE26GMp75z0"
      },
      "source": [
        "La stessa immagine viene ricampionata:"
      ]
    },
    {
      "cell_type": "code",
      "execution_count": null,
      "metadata": {
        "outputId": "15532a67-93ca-45f2-e42b-22455b1f887e",
        "id": "cvAS4jwhUuQS"
      },
      "outputs": [
        {
          "data": {
            "image/png": "[encoded data removed]",
            "text/plain": [
              "<Figure size 432x288 with 1 Axes>"
            ]
          },
          "metadata": {
            "needs_background": "light"
          },
          "output_type": "display_data"
        },
        {
          "data": {
            "text/plain": [
              "(100, 121, 121)"
            ]
          },
          "execution_count": 45,
          "metadata": {},
          "output_type": "execute_result"
        }
      ],
      "source": [
        "file_nii=\"/media/sf_D_DRIVE/TESI/ADNI/ADNI_002_S_0295_MR_MPR__GradWarp__B1_Correction__N3__Scaled_Br_20070319113623975_S13408_I45108.nii\"\n",
        "sitk_image = sitk.ReadImage(file_nii)\n",
        "file_campionata=ricampiona_img(sitk_image)\n",
        "# trasforma immagine in un numpy array\n",
        "img_camp = sitk.GetArrayFromImage(file_campionata)\n",
        "# visualizza immagine\n",
        "plt.imshow(img_camp[:, :, 30], cmap='gray')\n",
        "plt.show()\n",
        "img_camp.shape"
      ]
    },
    {
      "cell_type": "markdown",
      "metadata": {
        "id": "Tw5FtrI-75z1"
      },
      "source": [
        "Visualizziamo l'atlas di riferimento MNI 305 "
      ]
    },
    {
      "cell_type": "code",
      "execution_count": null,
      "metadata": {
        "outputId": "3abae46c-65f0-4018-a479-bf25d5465ef1",
        "id": "qrwMJ7vzUzes"
      },
      "outputs": [
        {
          "data": {
            "image/png": "[encoded data removed]",
            "text/plain": [
              "<Figure size 432x288 with 1 Axes>"
            ]
          },
          "metadata": {
            "needs_background": "light"
          },
          "output_type": "display_data"
        },
        {
          "data": {
            "text/plain": [
              "(156, 220, 172)"
            ]
          },
          "execution_count": 55,
          "metadata": {},
          "output_type": "execute_result"
        }
      ],
      "source": [
        "atlas = sitk.ReadImage('/media/sf_D_DRIVE/TESI/ATLAS/atlas.nii')\n",
        "# trasforma immagine in un numpy array\n",
        "imgatlas = sitk.GetArrayFromImage(atlas)\n",
        "# visualizza immagine\n",
        "plt.imshow(imgatlas[80, :, :], cmap='gray')\n",
        "plt.show()\n",
        "imgatlas.shape"
      ]
    },
    {
      "cell_type": "markdown",
      "metadata": {
        "id": "qkF5mu4q75z2"
      },
      "source": [
        "Di seguito l'immagine registrata:"
      ]
    },
    {
      "cell_type": "code",
      "execution_count": null,
      "metadata": {
        "outputId": "709c93ba-c0b4-4800-82b4-a631904d5b80",
        "id": "L2D4qQeCU4GR"
      },
      "outputs": [
        {
          "data": {
            "image/png": "[encoded data removed]",
            "text/plain": [
              "<Figure size 432x288 with 1 Axes>"
            ]
          },
          "metadata": {
            "needs_background": "light"
          },
          "output_type": "display_data"
        },
        {
          "data": {
            "text/plain": [
              "(78, 110, 86)"
            ]
          },
          "execution_count": 58,
          "metadata": {},
          "output_type": "execute_result"
        }
      ],
      "source": [
        "FILE_REG=\"/media/sf_D_DRIVE/TESI/REGISTERED_TEST/CN/ADNI_002_S_0295_MR_MPR__GradWarp__B1_Correction__N3__Scaled_Br_20070319113623975_S13408_I45108.nii\"\n",
        "FILE_REGISTRATO = sitk.ReadImage(FILE_REG)\n",
        "# trasforma immagine in un numpy array\n",
        "imgreg = sitk.GetArrayFromImage(FILE_REGISTRATO)\n",
        "# visualizza immagine\n",
        "plt.imshow(imgreg[60, :, :], cmap='gray')\n",
        "plt.show()\n",
        "imgreg.shape"
      ]
    },
    {
      "cell_type": "markdown",
      "metadata": {
        "id": "y6FxXsQE75z2"
      },
      "source": [
        "Infine, vediamo immagine con eliminazione del craino."
      ]
    },
    {
      "cell_type": "code",
      "execution_count": null,
      "metadata": {
        "outputId": "3459a0cb-4fe0-4859-d65c-569dcc8093b0",
        "id": "gy3mnm9eU8ar"
      },
      "outputs": [
        {
          "data": {
            "image/png": "[encoded data removed]",
            "text/plain": [
              "<Figure size 432x288 with 1 Axes>"
            ]
          },
          "metadata": {
            "needs_background": "light"
          },
          "output_type": "display_data"
        },
        {
          "data": {
            "text/plain": [
              "(78, 110, 86)"
            ]
          },
          "execution_count": 60,
          "metadata": {},
          "output_type": "execute_result"
        }
      ],
      "source": [
        "FILE_REG=\"/media/sf_D_DRIVE/TESI/REGISTERED_TEST/CN/ADNI_002_S_0295_MR_MPR__GradWarp__B1_Correction__N3__Scaled_Br_20070319113623975_S13408_I45108.nii-skull.nii.gz\"\n",
        "FILE_REGISTRATO = sitk.ReadImage(FILE_REG)\n",
        "# trasforma immagine in un numpy array\n",
        "imgreg = sitk.GetArrayFromImage(FILE_REGISTRATO)\n",
        "# visualizza immagine\n",
        "plt.imshow(imgreg[60, :, :], cmap='gray')\n",
        "plt.show()\n",
        "imgreg.shape"
      ]
    },
    {
      "cell_type": "markdown",
      "metadata": {
        "id": "CmEwvETLp82D"
      },
      "source": [
        "## Esecuzione pre-processing"
      ]
    },
    {
      "cell_type": "markdown",
      "metadata": {
        "id": "NnTGndSzqJFI"
      },
      "source": [
        "In questa sezione prevederemo l'esecuzione vera e propria del preprocessing delle immagini."
      ]
    },
    {
      "cell_type": "code",
      "execution_count": null,
      "metadata": {
        "id": "kQU_FR0Ea8HB"
      },
      "outputs": [],
      "source": [
        "# original database\n",
        "DATABASE = '/media/sf_D_DRIVE/TESI/ADNI'\n",
        "# registered and organized database\n",
        "REG_DB = '/media/sf_D_DRIVE/TESI/REGISTERED'\n",
        "REG_DB_SUBFOLDERS = ['AD/', 'MCI/', 'CN/']"
      ]
    },
    {
      "cell_type": "code",
      "execution_count": null,
      "metadata": {
        "colab": {
          "base_uri": "https://localhost:8080/",
          "height": 354
        },
        "id": "JDJqBedoa8HC",
        "outputId": "7084f8d5-b36e-4067-d424-051b3603976b"
      },
      "outputs": [
        {
          "output_type": "execute_result",
          "data": {
            "text/plain": [
              "  Image Data ID     Subject Group Sex  Age  Visit Modality  \\\n",
              "0       I112538  941_S_1311   MCI   M   70      4      MRI   \n",
              "1       I123812  941_S_1311   MCI   M   71      5      MRI   \n",
              "2        I97341  941_S_1311   MCI   M   70      3      MRI   \n",
              "3       I143861  941_S_1311   MCI   M   71      6      MRI   \n",
              "4        I97327  941_S_1311   MCI   M   69      1      MRI   \n",
              "\n",
              "                                  Description       Type   Acq Date Format  \\\n",
              "0    MPR; GradWarp; B1 Correction; N3; Scaled  Processed  6/01/2008  NiFTI   \n",
              "1    MPR; GradWarp; B1 Correction; N3; Scaled  Processed  9/21/2008  NiFTI   \n",
              "2  MPR-R; GradWarp; B1 Correction; N3; Scaled  Processed  9/27/2007  NiFTI   \n",
              "3    MPR; GradWarp; B1 Correction; N3; Scaled  Processed  3/31/2009  NiFTI   \n",
              "4    MPR; GradWarp; B1 Correction; N3; Scaled  Processed  3/02/2007  NiFTI   \n",
              "\n",
              "   Downloaded  \n",
              "0  10/20/2022  \n",
              "1  10/20/2022  \n",
              "2  10/20/2022  \n",
              "3  10/20/2022  \n",
              "4  10/20/2022  "
            ],
            "text/html": [
              "\n",
              "  <div id=\"df-c937e341-dbb0-4622-9ffc-1fe1a762966d\">\n",
              "    <div class=\"colab-df-container\">\n",
              "      <div>\n",
              "<style scoped>\n",
              "    .dataframe tbody tr th:only-of-type {\n",
              "        vertical-align: middle;\n",
              "    }\n",
              "\n",
              "    .dataframe tbody tr th {\n",
              "        vertical-align: top;\n",
              "    }\n",
              "\n",
              "    .dataframe thead th {\n",
              "        text-align: right;\n",
              "    }\n",
              "</style>\n",
              "<table border=\"1\" class=\"dataframe\">\n",
              "  <thead>\n",
              "    <tr style=\"text-align: right;\">\n",
              "      <th></th>\n",
              "      <th>Image Data ID</th>\n",
              "      <th>Subject</th>\n",
              "      <th>Group</th>\n",
              "      <th>Sex</th>\n",
              "      <th>Age</th>\n",
              "      <th>Visit</th>\n",
              "      <th>Modality</th>\n",
              "      <th>Description</th>\n",
              "      <th>Type</th>\n",
              "      <th>Acq Date</th>\n",
              "      <th>Format</th>\n",
              "      <th>Downloaded</th>\n",
              "    </tr>\n",
              "  </thead>\n",
              "  <tbody>\n",
              "    <tr>\n",
              "      <th>0</th>\n",
              "      <td>I112538</td>\n",
              "      <td>941_S_1311</td>\n",
              "      <td>MCI</td>\n",
              "      <td>M</td>\n",
              "      <td>70</td>\n",
              "      <td>4</td>\n",
              "      <td>MRI</td>\n",
              "      <td>MPR; GradWarp; B1 Correction; N3; Scaled</td>\n",
              "      <td>Processed</td>\n",
              "      <td>6/01/2008</td>\n",
              "      <td>NiFTI</td>\n",
              "      <td>10/20/2022</td>\n",
              "    </tr>\n",
              "    <tr>\n",
              "      <th>1</th>\n",
              "      <td>I123812</td>\n",
              "      <td>941_S_1311</td>\n",
              "      <td>MCI</td>\n",
              "      <td>M</td>\n",
              "      <td>71</td>\n",
              "      <td>5</td>\n",
              "      <td>MRI</td>\n",
              "      <td>MPR; GradWarp; B1 Correction; N3; Scaled</td>\n",
              "      <td>Processed</td>\n",
              "      <td>9/21/2008</td>\n",
              "      <td>NiFTI</td>\n",
              "      <td>10/20/2022</td>\n",
              "    </tr>\n",
              "    <tr>\n",
              "      <th>2</th>\n",
              "      <td>I97341</td>\n",
              "      <td>941_S_1311</td>\n",
              "      <td>MCI</td>\n",
              "      <td>M</td>\n",
              "      <td>70</td>\n",
              "      <td>3</td>\n",
              "      <td>MRI</td>\n",
              "      <td>MPR-R; GradWarp; B1 Correction; N3; Scaled</td>\n",
              "      <td>Processed</td>\n",
              "      <td>9/27/2007</td>\n",
              "      <td>NiFTI</td>\n",
              "      <td>10/20/2022</td>\n",
              "    </tr>\n",
              "    <tr>\n",
              "      <th>3</th>\n",
              "      <td>I143861</td>\n",
              "      <td>941_S_1311</td>\n",
              "      <td>MCI</td>\n",
              "      <td>M</td>\n",
              "      <td>71</td>\n",
              "      <td>6</td>\n",
              "      <td>MRI</td>\n",
              "      <td>MPR; GradWarp; B1 Correction; N3; Scaled</td>\n",
              "      <td>Processed</td>\n",
              "      <td>3/31/2009</td>\n",
              "      <td>NiFTI</td>\n",
              "      <td>10/20/2022</td>\n",
              "    </tr>\n",
              "    <tr>\n",
              "      <th>4</th>\n",
              "      <td>I97327</td>\n",
              "      <td>941_S_1311</td>\n",
              "      <td>MCI</td>\n",
              "      <td>M</td>\n",
              "      <td>69</td>\n",
              "      <td>1</td>\n",
              "      <td>MRI</td>\n",
              "      <td>MPR; GradWarp; B1 Correction; N3; Scaled</td>\n",
              "      <td>Processed</td>\n",
              "      <td>3/02/2007</td>\n",
              "      <td>NiFTI</td>\n",
              "      <td>10/20/2022</td>\n",
              "    </tr>\n",
              "  </tbody>\n",
              "</table>\n",
              "</div>\n",
              "      <button class=\"colab-df-convert\" onclick=\"convertToInteractive('df-c937e341-dbb0-4622-9ffc-1fe1a762966d')\"\n",
              "              title=\"Convert this dataframe to an interactive table.\"\n",
              "              style=\"display:none;\">\n",
              "        \n",
              "  <svg xmlns=\"http://www.w3.org/2000/svg\" height=\"24px\"viewBox=\"0 0 24 24\"\n",
              "       width=\"24px\">\n",
              "    <path d=\"M0 0h24v24H0V0z\" fill=\"none\"/>\n",
              "    <path d=\"M18.56 5.44l.94 2.06.94-2.06 2.06-.94-2.06-.94-.94-2.06-.94 2.06-2.06.94zm-11 1L8.5 8.5l.94-2.06 2.06-.94-2.06-.94L8.5 2.5l-.94 2.06-2.06.94zm10 10l.94 2.06.94-2.06 2.06-.94-2.06-.94-.94-2.06-.94 2.06-2.06.94z\"/><path d=\"M17.41 7.96l-1.37-1.37c-.4-.4-.92-.59-1.43-.59-.52 0-1.04.2-1.43.59L10.3 9.45l-7.72 7.72c-.78.78-.78 2.05 0 2.83L4 21.41c.39.39.9.59 1.41.59.51 0 1.02-.2 1.41-.59l7.78-7.78 2.81-2.81c.8-.78.8-2.07 0-2.86zM5.41 20L4 18.59l7.72-7.72 1.47 1.35L5.41 20z\"/>\n",
              "  </svg>\n",
              "      </button>\n",
              "      \n",
              "  <style>\n",
              "    .colab-df-container {\n",
              "      display:flex;\n",
              "      flex-wrap:wrap;\n",
              "      gap: 12px;\n",
              "    }\n",
              "\n",
              "    .colab-df-convert {\n",
              "      background-color: #E8F0FE;\n",
              "      border: none;\n",
              "      border-radius: 50%;\n",
              "      cursor: pointer;\n",
              "      display: none;\n",
              "      fill: #1967D2;\n",
              "      height: 32px;\n",
              "      padding: 0 0 0 0;\n",
              "      width: 32px;\n",
              "    }\n",
              "\n",
              "    .colab-df-convert:hover {\n",
              "      background-color: #E2EBFA;\n",
              "      box-shadow: 0px 1px 2px rgba(60, 64, 67, 0.3), 0px 1px 3px 1px rgba(60, 64, 67, 0.15);\n",
              "      fill: #174EA6;\n",
              "    }\n",
              "\n",
              "    [theme=dark] .colab-df-convert {\n",
              "      background-color: #3B4455;\n",
              "      fill: #D2E3FC;\n",
              "    }\n",
              "\n",
              "    [theme=dark] .colab-df-convert:hover {\n",
              "      background-color: #434B5C;\n",
              "      box-shadow: 0px 1px 3px 1px rgba(0, 0, 0, 0.15);\n",
              "      filter: drop-shadow(0px 1px 2px rgba(0, 0, 0, 0.3));\n",
              "      fill: #FFFFFF;\n",
              "    }\n",
              "  </style>\n",
              "\n",
              "      <script>\n",
              "        const buttonEl =\n",
              "          document.querySelector('#df-c937e341-dbb0-4622-9ffc-1fe1a762966d button.colab-df-convert');\n",
              "        buttonEl.style.display =\n",
              "          google.colab.kernel.accessAllowed ? 'block' : 'none';\n",
              "\n",
              "        async function convertToInteractive(key) {\n",
              "          const element = document.querySelector('#df-c937e341-dbb0-4622-9ffc-1fe1a762966d');\n",
              "          const dataTable =\n",
              "            await google.colab.kernel.invokeFunction('convertToInteractive',\n",
              "                                                     [key], {});\n",
              "          if (!dataTable) return;\n",
              "\n",
              "          const docLinkHtml = 'Like what you see? Visit the ' +\n",
              "            '<a target=\"_blank\" href=https://colab.research.google.com/notebooks/data_table.ipynb>data table notebook</a>'\n",
              "            + ' to learn more about interactive tables.';\n",
              "          element.innerHTML = '';\n",
              "          dataTable['output_type'] = 'display_data';\n",
              "          await google.colab.output.renderOutput(dataTable, element);\n",
              "          const docLink = document.createElement('div');\n",
              "          docLink.innerHTML = docLinkHtml;\n",
              "          element.appendChild(docLink);\n",
              "        }\n",
              "      </script>\n",
              "    </div>\n",
              "  </div>\n",
              "  "
            ]
          },
          "metadata": {},
          "execution_count": 35
        }
      ],
      "source": [
        "atlas = sitk.ReadImage('/media/sf_D_DRIVE/TESI/ATLAS/atlas.nii')\n",
        "atlas = ricampiona_img(atlas)\n",
        "description = pd.read_csv('/content/drive/MyDrive/ColabNotebooks/dataset/ADNI1_Complete_2Yr_1.5T_10_22_2022.csv')\n",
        "description.head()"
      ]
    },
    {
      "cell_type": "markdown",
      "metadata": {
        "id": "i2HM0ADfqYZe"
      },
      "source": [
        "Il file **ADNI1_Complete_2Yr_1.5T_10_22_2022.csv**  rappresenta la lista delle immagini che costituiscono il dataset utilizzato in questa ricerca.\n"
      ]
    },
    {
      "cell_type": "code",
      "execution_count": null,
      "metadata": {
        "collapsed": true,
        "id": "jr3g-qr6a8HG",
        "outputId": "579477e7-f300-4d17-f23b-ee0944fd9544"
      },
      "outputs": [
        {
          "name": "stdout",
          "output_type": "stream",
          "text": [
            "file:  ADNI_002_S_0295_MR_MPR__GradWarp__B1_Correction__N3__Scaled_Br_20070319113623975_S13408_I45108.nii\n",
            "path:  /media/sf_D_DRIVE/TESI/ADNI\n",
            "path:  Image (0x4335840)\n",
            "  RTTI typeinfo:   itk::Image<float, 3u>\n",
            "  Reference Count: 2\n",
            "  Modified Time: 15488\n",
            "  Debug: Off\n",
            "  Object Name: \n",
            "  Observers: \n",
            "    none\n",
            "  Source: (none)\n",
            "  Source output name: (none)\n",
            "  Release Data: Off\n",
            "  Data Released: False\n",
            "  Global Release Data: Off\n",
            "  PipelineMTime: 15464\n",
            "  UpdateMTime: 15486\n",
            "  RealTimeStamp: 0 seconds \n",
            "  LargestPossibleRegion: \n",
            "    Dimension: 3\n",
            "    Index: [0, 0, 0]\n",
            "    Size: [1, 1, 1]\n",
            "  BufferedRegion: \n",
            "    Dimension: 3\n",
            "    Index: [0, 0, 0]\n",
            "    Size: [1, 1, 1]\n",
            "  RequestedRegion: \n",
            "    Dimension: 3\n",
            "    Index: [0, 0, 0]\n",
            "    Size: [1, 1, 1]\n",
            "  Spacing: [2, 2, 2]\n",
            "  Origin: [86.095, 126.51, -68.25]\n",
            "  Direction: \n",
            "-1 0 0\n",
            "0 -1 0\n",
            "0 0 1\n",
            "\n",
            "  IndexToPointMatrix: \n",
            "-2 0 0\n",
            "0 -2 0\n",
            "0 0 2\n",
            "\n",
            "  PointToIndexMatrix: \n",
            "-0.5 0 0\n",
            "0 -0.5 0\n",
            "0 0 0.5\n",
            "\n",
            "  Inverse Direction: \n",
            "-1 0 0\n",
            "0 -1 0\n",
            "0 0 1\n",
            "\n",
            "  PixelContainer: \n",
            "    ImportImageContainer (0x4222cd0)\n",
            "      RTTI typeinfo:   itk::ImportImageContainer<unsigned long, float>\n",
            "      Reference Count: 1\n",
            "      Modified Time: 15484\n",
            "      Debug: Off\n",
            "      Object Name: \n",
            "      Observers: \n",
            "        none\n",
            "      Pointer: 0x4334a40\n",
            "      Container manages memory: true\n",
            "      Size: 1\n",
            "      Capacity: 1\n",
            "\n",
            "Exception with /media/sf_D_DRIVE/TESI/ADNI/ADNI_002_S_0295_MR_MPR__GradWarp__B1_Correction__N3__Scaled_Br_20070319113623975_S13408_I45108.nii\n"
          ]
        }
      ],
      "source": [
        "for path, dirs, files in os.walk(DATABASE):\n",
        "    if files:\n",
        "        for file in files:\n",
        "            try:\n",
        "                print(\"file: \", file)\n",
        "                print(\"path: \", path)\n",
        "                print(\"path: \", atlas)\n",
        "                register_and_save(file, \n",
        "                                  path, \n",
        "                                  atlas)\n",
        "            except RuntimeError:\n",
        "                print('Exception with', os.path.join(path, file))"
      ]
    },
    {
      "cell_type": "markdown",
      "metadata": {
        "id": "EMrpeW0N7_FQ"
      },
      "source": [
        "# Costruzione del database TFRecord"
      ]
    },
    {
      "cell_type": "markdown",
      "metadata": {
        "id": "DX3YW9cvj8DW"
      },
      "source": [
        "## Descrizione funzioni create per la creazione del db TFRecord"
      ]
    },
    {
      "cell_type": "markdown",
      "metadata": {
        "id": "8LWlR79jirsh"
      },
      "source": [
        "Per migliorare le prestazioni nella fase di addestramento del modello abbiamo costruito un database di tipo TF.\n",
        "L'utilizzo del TFRecord ci permette di memorizzare una sequenza di record binari.\n",
        "E' progettato per l'uso con tensorflow e viene utilizzato in tutte le API di livello superiore come TFX."
      ]
    },
    {
      "cell_type": "code",
      "execution_count": null,
      "metadata": {
        "id": "EC4_XfhajoPM"
      },
      "outputs": [],
      "source": [
        "def _int64_feature(value):\n",
        "  return tf.train.Feature(int64_list=tf.train.Int64List(value=[value]))\n",
        "\n",
        "def _float_feature(value):\n",
        "  return tf.train.Feature(float_list=tf.train.FloatList(value=value))\n",
        "  \n",
        "def _bytes_feature(value):\n",
        "  return tf.train.Feature(bytes_list=tf.train.BytesList(value=[value]))"
      ]
    },
    {
      "cell_type": "markdown",
      "metadata": {
        "id": "cCrn3YXKkCC7"
      },
      "source": [
        "Funzioni progettata per la gestione delle feature che possono essere:\n",
        "\n",
        "\n",
        "\n",
        "1.   **BytesList**: gestione tipi \"string\" e \"byte\"\n",
        "2.   **FloatList**: gestione tipi \"float\" e \"double\"\n",
        "3.   **Int64List**: gestione tipi \"bool/enum/int32/uint32/int64/uint64\"\n",
        "\n",
        "\n"
      ]
    },
    {
      "cell_type": "code",
      "execution_count": null,
      "metadata": {
        "id": "nRhLvp5Elnl7"
      },
      "outputs": [],
      "source": [
        "def load_image_3D(abs_path):\n",
        "  ''' Carica l'immagin .nii e la relativa label da percorso (path) indicato\n",
        "      \n",
        "      Parameters:\n",
        "        abs_path -- Absolute path, filename included\n",
        "        \n",
        "      Returns:\n",
        "        img -- The .nii image, converted into a numpy array\n",
        "        label -- The label of the image\n",
        "        \n",
        "  '''\n",
        "  # obtain the label from the path (it is the last directory name)\n",
        "  split_path = abs_path.split('/')\n",
        "  label = LABELS[split_path[-2]]\n",
        "  # obtain the ID of the subject\n",
        "  img_name = split_path[-1]\n",
        "  subject = '_'.join(img_name.split('_')[1:4])\n",
        "  # load the image with SimpleITK\n",
        "  sitk_image = sitk.ReadImage(abs_path)\n",
        "  # transform into a numpy array\n",
        "  img = sitk.GetArrayFromImage(sitk_image)  \n",
        "  \n",
        "  return img, label, subject"
      ]
    },
    {
      "cell_type": "markdown",
      "metadata": {
        "id": "Vs3rhcmBl1jN"
      },
      "source": [
        "La funzione **load_image_3D**,  indicato un percorso specifico  (path) ritorna immagine (di tipo sitk), label e subject."
      ]
    },
    {
      "cell_type": "code",
      "execution_count": null,
      "metadata": {
        "id": "_L94c6q_mPLL"
      },
      "outputs": [],
      "source": [
        "def create_tf_record(img_filenames, tf_rec_filename):\n",
        "  ''' Funzione che crea il TFR file \n",
        "      Parameters:\n",
        "        img_filenames -- Array with the path to every\n",
        "                         image that is going to be included\n",
        "                         in the TFRecords file.\n",
        "        tf_rec_filename -- Name of the TFRecords file.\n",
        "  '''\n",
        "  \n",
        "  # apro il file TFR\n",
        "  writer = tf.io.TFRecordWriter(tf_rec_filename)\n",
        "  \n",
        "  # iterate through all .nii files\n",
        "  for meta_data in img_filenames:\n",
        "\n",
        "    # load the image and label\n",
        "    img, label, subject = load_image_3D(meta_data)    \n",
        "    # also save the preprocessing information and the subject age and sex\n",
        "    meta_data_split = meta_data.split('/')\n",
        "    filename_split = meta_data_split[-1].split('_')\n",
        "    \n",
        "    # save the preprocessing technique used\n",
        "    preprocessing = '_'.join(filename_split[5:-3])\n",
        "    \n",
        "    # get the image ID    \n",
        "    dim=len(filename_split)-1\n",
        "    splitted_name_app = filename_split[dim]\n",
        "    splitted_name_app = splitted_name_app.strip().split('.')\n",
        "    # save the image ID\n",
        "    image_ID = splitted_name_app[0]\n",
        "    age_and_sex = description.loc[description['Image Data ID'] == image_ID, ['Age','Sex']].iloc[0]\n",
        "    print(label , \" - \", image_ID, \" - \", subject)\n",
        "    # obtain the corresponding row in the dataframe\n",
        "    # create a feature\n",
        "    feature = {'label': _int64_feature(label),\n",
        "               'subject': _bytes_feature(subject.encode('utf-8')),\n",
        "               'preprocessing': _bytes_feature(preprocessing.encode('utf-8')),\n",
        "               'subject_age': _int64_feature(age_and_sex[0]),\n",
        "               'subject_sex': _bytes_feature(age_and_sex[1].encode('utf-8')),\n",
        "               'image_id': _bytes_feature(image_ID.encode('utf-8')),\n",
        "               'image': _float_feature(img.ravel())}\n",
        "\n",
        "    # create an example protocol buffer\n",
        "    example = tf.train.Example(features=tf.train.Features(feature=feature))\n",
        "\n",
        "    # serialize to string and write on the file\n",
        "    writer.write(example.SerializeToString())\n",
        "    \n",
        "  writer.close()"
      ]
    },
    {
      "cell_type": "markdown",
      "metadata": {
        "id": "rocNsUrgmial"
      },
      "source": [
        "Questa funzione è in effetti quella cardine, ci permette di creare un TFR contenente l'informazione delle immagini.\n",
        "La feature è costituita da diverse informazioni:\n",
        "\n",
        "\n",
        "1.   **label**\n",
        "2.   **subject**\n",
        "3.   **preprocessing**\n",
        "4.   **età**\n",
        "5.   **sesso**\n",
        "6.   **immagine ID**\n",
        "7.   **immagine**\n",
        "\n",
        "L'istruzione \"example = tf.train.Example(features=tf.train.Features(feature=feature))\" serve a serializzare il messaggio (questo ci consente di avere migliori prestazioni in termini di occupazione disco).\n"
      ]
    },
    {
      "cell_type": "markdown",
      "metadata": {
        "id": "TKtQbx3mnYlt"
      },
      "source": [
        "## Creazione file TFRecord "
      ]
    },
    {
      "cell_type": "code",
      "execution_count": null,
      "metadata": {
        "id": "0lmtIA9mk27_"
      },
      "outputs": [],
      "source": [
        "# Directory utilizzate per riportare le immagini registrate e senza craino (skull)\n",
        "DB_REG_PATH = '/media/sf_D_DRIVE/TESI/REGISTERED'\n",
        "DB_SS_PATH = '/content/drive/MyDrive/ColabNotebooks/dataset/SKULLTEST/'\n",
        "# data subfolders (labels)\n",
        "CLASS_SUBFOLDERS = ['MCI/', 'AD/', 'CN/']\n",
        "DB_TF_3D_PATH = '/content/drive/MyDrive/ColabNotebooks/dataset/'\n",
        "TFREC_3D_REG_TRAIN = 'train.3D.registered.tfrecords'\n",
        "TFREC_3D_SS_TRAIN = 'train.3D.skull_stripped.tfrecords'\n",
        "##\n",
        "TFREC_3D_REG_TEST = 'test.3D.registered.tfrecords'\n",
        "TFREC_3D_SS_TEST = 'test.3D.skull_stripped.tfrecords'\n",
        "##\n",
        "TFREC_3D_REG_VAL = 'validation.3D.registered.tfrecords'\n",
        "TFREC_3D_SS_VAL = 'validation.3D.skull_stripped.tfrecords'\n",
        "# 3D unsupervised TFRecords database\n",
        "DB_TF_UL_PATH = 'media/sf_D_DRIVE/TESI/TFRecordsUL/'"
      ]
    },
    {
      "cell_type": "code",
      "execution_count": null,
      "metadata": {
        "id": "qJ47AFUNlOrc"
      },
      "outputs": [],
      "source": [
        "# Mapping della classificazione\n",
        "LABELS = {'CN': 0, 'MCI': 1, 'AD': 2}\n",
        "# shape dell'immagine 3D\n",
        "IMG_SHAPE = (78, 110, 86)\n",
        "N_CLASSES = len(LABELS)"
      ]
    },
    {
      "cell_type": "code",
      "execution_count": null,
      "metadata": {
        "id": "_tO1rHxxlZ8x"
      },
      "outputs": [],
      "source": [
        "TEST_SPLIT = 0.15\n",
        "VALIDATION_SPLIT = 0.15"
      ]
    },
    {
      "cell_type": "code",
      "execution_count": null,
      "metadata": {
        "colab": {
          "base_uri": "https://localhost:8080/"
        },
        "id": "FaOgUArMnyxk",
        "outputId": "b8208ba3-2ec5-4f13-c41e-bc31b3d2d295"
      },
      "outputs": [
        {
          "output_type": "stream",
          "name": "stdout",
          "text": [
            "Training set: (1476,)\n",
            "Validation set: (260,)\n",
            "Test set: (306,)\n"
          ]
        }
      ],
      "source": [
        "# inizializzazione struttura filenames\n",
        "filenames = np.array([])\n",
        "\n",
        "# Itero sulle immagini registrate senza craino (skull)\n",
        "for subf in CLASS_SUBFOLDERS:\n",
        "  # using the skull stripped data\n",
        "  path = DB_SS_PATH + subf\n",
        "  for name in os.listdir(path):\n",
        "    complete_name = os.path.join(path, name)\n",
        "    if os.path.isfile(complete_name):\n",
        "      filenames = np.concatenate((filenames, complete_name), axis=None)\n",
        "\n",
        "### Una volta che la struttura filenames ha tutte le immagini registrate.\n",
        "### andiamo a creare il dataset di \"training\"/\"test\"/\"validation\".\n",
        "\n",
        "for i in range(1000):\n",
        "  np.random.shuffle(filenames)\n",
        "  \n",
        "test_margin = int(len(filenames) * TEST_SPLIT)\n",
        "training_set, test_set = filenames[test_margin:], filenames[:test_margin]\n",
        "\n",
        "validation_margin = int(len(training_set) * VALIDATION_SPLIT)\n",
        "training_set, validation_set = training_set[validation_margin:], training_set[:validation_margin]\n",
        "\n",
        "print('Training set:', training_set.shape)\n",
        "print('Validation set:', validation_set.shape)\n",
        "print('Test set:', test_set.shape)      "
      ]
    },
    {
      "cell_type": "markdown",
      "metadata": {
        "id": "vQx0zxOIokYL"
      },
      "source": [
        "Nel blocco precedente l'obiettivo è quello di creare i tre dataset (file TFrecord) utili per la fase di apprendimento e test del modello."
      ]
    },
    {
      "cell_type": "code",
      "execution_count": null,
      "metadata": {
        "id": "egTdyKGnozXL"
      },
      "outputs": [],
      "source": [
        "train_tfrec = os.path.join(DB_TF_3D_PATH, TFREC_3D_SS_TRAIN)\n",
        "test_tfrec = os.path.join(DB_TF_3D_PATH, TFREC_3D_SS_TEST)\n",
        "val_tfrec = os.path.join(DB_TF_3D_PATH, TFREC_3D_SS_VAL)\n",
        "###\n",
        "create_tf_record(training_set, train_tfrec)\n",
        "create_tf_record(test_set, test_tfrec)\n",
        "create_tf_record(validation_set, val_tfrec)"
      ]
    },
    {
      "cell_type": "markdown",
      "metadata": {
        "id": "Izh-6rNGpAeE"
      },
      "source": [
        "Assegnazione delle variabili:\n",
        "\n",
        "1. **train_tfrec** (TFrecord di training);\n",
        "2. **test_tfrec** (TFRecord di test);\n",
        "3. **val_tfrec**  (TFRecord di validazione).\n",
        "\n",
        "Fatta l'assegnazione procediamo alla creazione vera e propria dei 3 tfrecord.\n"
      ]
    },
    {
      "cell_type": "markdown",
      "metadata": {
        "id": "QiIetdlLpey0"
      },
      "source": [
        "# Costruzione del modello di apprendimento"
      ]
    },
    {
      "cell_type": "markdown",
      "metadata": {
        "id": "qyzduxG2pkem"
      },
      "source": [
        "## Descrizioni funzioni create per l'apprendimento"
      ]
    },
    {
      "cell_type": "code",
      "execution_count": null,
      "metadata": {
        "id": "6LpahIAapp2b"
      },
      "outputs": [],
      "source": [
        "def _decode(serialized_example):\n",
        "    ''' Funzione che decodifica il dato serializzato nella fase di costruzione del file TFR\n",
        "    '''\n",
        "    # decode examples stored in TFRecord\n",
        "    feature = tf.io.parse_single_example(\n",
        "        serialized_example,\n",
        "        features = {\n",
        "            'image': tf.io.FixedLenFeature(IMG_SHAPE, tf.float32),\n",
        "            'label': tf.io.FixedLenFeature([], tf.int64),\n",
        "            'subject': tf.io.FixedLenFeature([], tf.string),\n",
        "            'preprocessing': tf.io.FixedLenFeature([], tf.string),\n",
        "            'subject_sex': tf.io.FixedLenFeature([], tf.string),\n",
        "            'subject_age': tf.io.FixedLenFeature([], tf.int64),\n",
        "            'image_id': tf.io.FixedLenFeature([], tf.string)\n",
        "        }\n",
        "    )\n",
        "    \n",
        "    return feature['image'], feature['label']"
      ]
    },
    {
      "cell_type": "markdown",
      "metadata": {
        "id": "N7VmO8QJqY5-"
      },
      "source": [
        "La funzione **_decode** ci consente di decodificiare il record serializzato nel file TFrecord.\n",
        "La funzione ci restituisce sia l'immagine che la corrispetiva label."
      ]
    },
    {
      "cell_type": "code",
      "execution_count": null,
      "metadata": {
        "id": "Kt6kISocrJZf"
      },
      "outputs": [],
      "source": [
        "def dataset_parser(filepath, ciclo, mapping_fn=None, preprocessing_fn=None, n_classes=3):\n",
        "  ''' Questo metodo è una pipeline per l'alimentazione\n",
        "      tfrecord dati in un modello Keras.\n",
        "      \n",
        "      Parameters:\n",
        "        filepath -- The complete path to the TFRecord file\n",
        "        batch_size -- The size of the batch\n",
        "        mapping_fn -- Function for extra mapping the values. \n",
        "                      For adapting the records to binary classification.\n",
        "        preprocessing_fn -- Function for image preprocessing\n",
        "        n_classes -- Number of possible classes for the current implementation\n",
        "        \n",
        "      Returns:\n",
        "        image -- Tensor with the image\n",
        "        label -- Tensor with the label\n",
        "  '''\n",
        "  \n",
        "  # create and configure the dataset\n",
        "  dataset = tf.data.TFRecordDataset(filepath).map(_decode)\n",
        "  if mapping_fn != None: dataset = dataset.map(mapping_fn)\n",
        "  if preprocessing_fn != None: dataset = dataset.map(preprocessing_fn)\n",
        "    \n",
        "  dataset = dataset.shuffle(SHUFFLE_BUFFER).repeat()\n",
        "  dataset = dataset.batch(ciclo)\n",
        "  dataset = dataset.prefetch(1)\n",
        "  \n",
        "  # get example\n",
        "  iterator = iter(dataset)\n",
        "  image, label = next(iterator)\n",
        "  \n",
        "  # encode the label\n",
        "  label = tf.one_hot(label, n_classes)\n",
        "  \n",
        "  return image, label"
      ]
    },
    {
      "cell_type": "code",
      "execution_count": null,
      "metadata": {
        "id": "8_ff4wi3sb4z"
      },
      "outputs": [],
      "source": [
        "def plot_training(history, title):\n",
        "  ''' Plot the training and validation loss + accuracy\n",
        "  '''\n",
        "  \n",
        "  acc = history.history['acc'][1:]\n",
        "  val_acc = history.history['val_acc'][1:]\n",
        "  loss = history.history['loss'][1:]\n",
        "  val_loss = history.history['val_loss'][1:]\n",
        "  epochs = range(len(acc))\n",
        "  \n",
        "  plt.figure(figsize=(20, 8))\n",
        "\n",
        "  plt.subplot(121)\n",
        "  plt.plot(epochs, acc, 'r.')\n",
        "  plt.plot(epochs, val_acc, 'r')\n",
        "  plt.legend(('Training accuracy', 'Validation accuracy'),\n",
        "             loc='upper right')\n",
        "  plt.title(title + '- Accuracy')\n",
        "\n",
        "  plt.subplot(122)\n",
        "  plt.plot(epochs, loss, 'b.')\n",
        "  plt.plot(epochs, val_loss, 'b')\n",
        "  plt.legend(('Training loss', 'Validation loss'),\n",
        "             loc='upper right')\n",
        "  plt.title(title)\n",
        "  \n",
        "  export_file = '-'.join(title.split()) + '.png'\n",
        "  plt.savefig(os.path.join(DB_MODELS, export_file))\n",
        "  \n",
        "  plt.show()"
      ]
    },
    {
      "cell_type": "code",
      "execution_count": null,
      "metadata": {
        "id": "qp8PXsyisiSb"
      },
      "outputs": [],
      "source": [
        "def get_data_for_predict(tfrec_file,ciclo,decoding_fn, mapping_fn=None, preprocessing_fn=None):\n",
        "  ''' Legge e restituisce i dati da un file TFRecord.\n",
        "      Questa funzione è utilizzata solo per lavorare con i dati di test.\n",
        "      \n",
        "      Params:\n",
        "        tfrec_file -- Absolute path to the .tfrecord\n",
        "        decoding_fn - Function used to decode the serialized examples\n",
        "        mapping_fn -- Optional extra mapping for binary classification\n",
        "        preprocessing_fn -- Function for image preprocessing\n",
        "      \n",
        "      Returns:\n",
        "        images and labels (tuple)\n",
        "  '''\n",
        "  # creazione delle strutture di images e label\n",
        "  images = np.empty((n_test_samples, IMG_SHAPE[0], IMG_SHAPE[1], IMG_SHAPE[2], IMG_SHAPE[3]))\n",
        "  labels = np.empty((n_test_samples))\n",
        "  # Estrazione dal file TFRecord e creatore dell'iterator\n",
        "  dataset = tf.data.TFRecordDataset(tfrec_file).map(decoding_fn)\n",
        "  dataset = dataset.shuffle(SHUFFLE_BUFFER).repeat()\n",
        "  dataset = dataset.batch(ciclo,drop_remainder=True)\n",
        "  dataset = dataset.prefetch(1)\n",
        "  if preprocessing_fn != None: \n",
        "     dataset = dataset.map(preprocessing_fn)\n",
        "  #\n",
        "  iterator = iter(dataset)\n",
        "  images, labels = next(iterator)\n",
        "  return images, labels"
      ]
    },
    {
      "cell_type": "markdown",
      "metadata": {
        "id": "VLeadogbsGOr"
      },
      "source": [
        "La funzione **get_data_for_predict** ci consente di parserizzare il dataset estratto dal tfRecord. In particolare il dataset che contiene l'informazione relative alla fase di test."
      ]
    },
    {
      "cell_type": "code",
      "execution_count": null,
      "metadata": {
        "id": "xAaeAlZBs9Rs"
      },
      "outputs": [],
      "source": [
        "def compute_auc(model, images, labels, target_names, title):\n",
        "  ''' Computes the ROC and AUC for a given model\n",
        "      and a specific test set.\n",
        "      \n",
        "      Parameters:\n",
        "        model -- The trained model\n",
        "        images -- Images of the test set\n",
        "        labels -- Labels for the images\n",
        "        target_names -- Names for the labels\n",
        "  '''\n",
        "  n_classes = len(target_names)\n",
        "  y_true = tf.keras.utils.to_categorical(labels, n_classes)\n",
        "  y_pred = model.predict(x=images)\n",
        "  \n",
        "  fpr = dict()\n",
        "  tpr = dict()\n",
        "  roc_auc = dict()\n",
        "  for i in range(n_classes):\n",
        "    fpr[i], tpr[i], _ = skmetrics.roc_curve(y_true[:, i], y_pred[:, i])\n",
        "    roc_auc[i] = skmetrics.auc(fpr[i], tpr[i])\n",
        "  \n",
        "  # compute micro-average ROC curve and ROC area\n",
        "  fpr['micro'], tpr['micro'], _ = skmetrics.roc_curve(y_true.ravel(), y_pred.ravel())\n",
        "  roc_auc['micro'] = skmetrics.auc(fpr['micro'], tpr['micro'])\n",
        "  \n",
        "  # compute macro-average ROC curve and ROC area\n",
        "  # first aggregate all false positive rates\n",
        "  all_fpr = np.unique(np.concatenate([fpr[i] for i in range(n_classes)]))\n",
        "\n",
        "  # Then interpolate all ROC curves at this points\n",
        "  mean_tpr = np.zeros_like(all_fpr)\n",
        "  for i in range(n_classes):\n",
        "      mean_tpr += interp(all_fpr, fpr[i], tpr[i])\n",
        "\n",
        "  # finally average it and compute AUC\n",
        "  mean_tpr /= n_classes\n",
        "\n",
        "  fpr['macro'] = all_fpr\n",
        "  tpr['macro'] = mean_tpr\n",
        "  roc_auc['macro'] = skmetrics.auc(fpr['macro'], tpr['macro'])\n",
        "\n",
        "  # plot all ROC curves\n",
        "  plt.figure(figsize=(10, 10))\n",
        "  plt.plot(fpr['micro'], tpr['micro'],\n",
        "           label='micro-average ROC curve (area = {0:0.2f})'\n",
        "                 ''.format(roc_auc['micro']),\n",
        "           color='deeppink', linestyle=':', linewidth=4)\n",
        "\n",
        "  plt.plot(fpr['macro'], tpr['macro'],\n",
        "           label='macro-average ROC curve (area = {0:0.2f})'\n",
        "                 ''.format(roc_auc[\"macro\"]),\n",
        "           color='navy', linestyle=':', linewidth=4)\n",
        "\n",
        "  colors = cycle(['aqua', 'darkorange', 'cornflowerblue'])\n",
        "  for i, color in zip(range(n_classes), colors):\n",
        "      plt.plot(fpr[i], tpr[i], color=color, lw=2,\n",
        "               label='ROC curve of class {0} (area = {1:0.2f})'\n",
        "               ''.format(target_names[i], roc_auc[i]))\n",
        "\n",
        "  plt.plot([0, 1], [0, 1], 'k--', lw=2)\n",
        "  plt.xlim([0.0, 1.0])\n",
        "  plt.ylim([0.0, 1.05])\n",
        "  plt.xlabel('False Positive Rate')\n",
        "  plt.ylabel('True Positive Rate')\n",
        "  plt.title(title)\n",
        "  plt.legend(loc=\"lower right\")\n",
        "  \n",
        "  export_file = '-'.join(title.split()) + '.png'\n",
        "  plt.savefig(os.path.join(DB_MODELS, export_file))\n",
        "  \n",
        "  plt.show()"
      ]
    },
    {
      "cell_type": "code",
      "execution_count": null,
      "metadata": {
        "id": "eQpnkcIHvUCu"
      },
      "outputs": [],
      "source": [
        "class EarlyStoppingByLossVal(tf.keras.callbacks.Callback):\n",
        "  ''' Define an early stopping callback to stop training\n",
        "      when a certain validation loss value is achieved.\n",
        "  '''\n",
        "  \n",
        "  def __init__(self, monitor='val_loss', value=1.4, verbose=0):\n",
        "    ''' Initialization '''\n",
        "    super(tf.keras.callbacks.Callback, self).__init__()\n",
        "    self.monitor = monitor\n",
        "    self.value = value\n",
        "    self.verbose = verbose\n",
        "\n",
        "  def on_epoch_end(self, epoch, logs={}):\n",
        "    ''' Check, on epoch end, if the validation loss\n",
        "        value is smaller than the threshold\n",
        "    '''\n",
        "    current = logs.get(self.monitor)\n",
        "    if current is None:\n",
        "      warnings.warn(\"Early stopping requires %s available!\" % self.monitor, RuntimeWarning)\n",
        "\n",
        "    if current < self.value:\n",
        "      if self.verbose > 0:\n",
        "        print(\"Epoch %05d: early stopping THR\" % epoch)\n",
        "      #self.model.stop_training = True"
      ]
    },
    {
      "cell_type": "code",
      "execution_count": null,
      "metadata": {
        "id": "ehTLO3g02u6u"
      },
      "outputs": [],
      "source": [
        "def classification_report(model, images, labels, target_names, output_file):\n",
        "  ''' Stampa il rapporto di classificazione per un determinato modello e\n",
        "      un set di test specifico. Lo esporta in un file .json\n",
        "      \n",
        "      Parameters:\n",
        "        model -- The trained model\n",
        "        images -- Images of the test set\n",
        "        labels -- Labels of the images\n",
        "        target_names -- Names of the labels\n",
        "        output_file -- Name and path of the output json file\n",
        "  '''\n",
        "  \n",
        "  n_classes = len(target_names)\n",
        "  \n",
        "  y_true = tf.keras.utils.to_categorical(labels, n_classes)\n",
        "  \n",
        "  predictions = model.predict(x=images)\n",
        "  output = skmetrics.classification_report(labels, predictions.argmax(axis=1), \n",
        "                                           target_names=target_names, output_dict=True)\n",
        "  print(json.dumps(output, indent=4))\n",
        "  \n",
        "  with open(os.path.join(DB_MODELS, output_file + '.json'), 'w') as output_json:\n",
        "    json.dump(output, output_json, indent=4)"
      ]
    },
    {
      "cell_type": "markdown",
      "metadata": {
        "id": "evG1qry2tBPd"
      },
      "source": [
        "## Creazione modello di apprendimento con architettura ResNet3D"
      ]
    },
    {
      "cell_type": "code",
      "execution_count": null,
      "metadata": {
        "id": "SoVV9LjpyIzO"
      },
      "outputs": [],
      "source": [
        "LABELS = {'CN': 0, 'MCI': 1, 'AD': 2}\n",
        "DB_MODELS = '/content/drive/MyDrive/ColabNotebooks/progetto/'\n",
        "N_CLASSES = len(LABELS)\n",
        "IMG_SHAPE = (78, 110, 86, 1)"
      ]
    },
    {
      "cell_type": "code",
      "execution_count": null,
      "metadata": {
        "id": "MqO4GVeXtKcs"
      },
      "outputs": [],
      "source": [
        "training_tfrec = os.path.join(DB_TF_3D_PATH, TFREC_3D_SS_TRAIN)\n",
        "validation_tfrec = os.path.join(DB_TF_3D_PATH, TFREC_3D_SS_VAL)\n",
        "test_tfrec = os.path.join(DB_TF_3D_PATH, TFREC_3D_SS_TEST)\n",
        "##\n",
        "total_n_samples = 2042\n",
        "n_training_samples = 1476\n",
        "n_val_samples = 260\n",
        "n_test_samples = 306\n",
        "##\n",
        "SHUFFLE_BUFFER = 100\n",
        "BATCH_SIZE = 16\n",
        "STEPS_PER_EPOCH = int(n_training_samples / BATCH_SIZE)-1\n",
        "VALIDATION_STEPS = int(n_val_samples / BATCH_SIZE)-1"
      ]
    },
    {
      "cell_type": "code",
      "execution_count": null,
      "metadata": {
        "id": "zhc6whaYtNNS"
      },
      "outputs": [],
      "source": [
        "whitening_fn = lambda image, label: (tf.image.per_image_standardization(image), label) \n",
        "ciclo=n_training_samples\n",
        "image_tensor, label_tensor = dataset_parser(training_tfrec,ciclo, preprocessing_fn=whitening_fn)"
      ]
    },
    {
      "cell_type": "markdown",
      "metadata": {
        "id": "nfuP7KvOtVYV"
      },
      "source": [
        "estraggo i tensor image e label parserizzando il dataset scritto nel tfRecord."
      ]
    },
    {
      "cell_type": "code",
      "execution_count": null,
      "metadata": {
        "id": "qn_RCy6itbe8"
      },
      "outputs": [],
      "source": [
        "base_model = Resnet3DBuilder.build_resnet_34(\n",
        "    input_shape=IMG_SHAPE,\n",
        "    num_outputs=N_CLASSES,\n",
        "    reg_factor=0.01\n",
        ")\n",
        "\n",
        "fc_layer = tf.keras.layers.Dense(512, activation='relu')(base_model.layers[-2].output)\n",
        "fc_layer = tf.keras.layers.Dropout(0.8)(fc_layer)\n",
        "output_layer = tf.keras.layers.Dense(N_CLASSES, activation='softmax')(fc_layer)\n",
        "model = tf.keras.models.Model(inputs=base_model.input, outputs=output_layer)"
      ]
    },
    {
      "cell_type": "markdown",
      "metadata": {
        "id": "eUXX_gQVteuF"
      },
      "source": [
        "Costruzione del modello:\n",
        "\n",
        "***Layer Dense***: Normale livello di rete neurale profondamento connesso. Questo rappresenta il livello più comune e utilizzato di frequente.\n",
        "Nel layer dense ogni neurone riceve input da tutti i neuroni dallo stato precedente.\n",
        "Il layer Dense è utilizzato per la classificazione di immagini in base all'output dei livelli convoluzionali.\n",
        "\n",
        "***Layer Dropout***: E' una tecnica di regolarizzazione. Prevede l'omissione dei neuroni che agiscono come rilevatori di caratteristiche della rete neurale durante ogni fase di addestramento.\n",
        "L'esclusione è determinata causalmente. L'obiettivo del dropout è anche quello di ridurre a minimo l'effetto dell'overfitting. "
      ]
    },
    {
      "cell_type": "code",
      "execution_count": null,
      "metadata": {
        "id": "RuADpQscubh-",
        "colab": {
          "base_uri": "https://localhost:8080/"
        },
        "outputId": "9a03f6b0-6387-4c68-9cf5-d49bcfdd8713"
      },
      "outputs": [
        {
          "output_type": "stream",
          "name": "stdout",
          "text": [
            "Model: \"model_1\"\n",
            "__________________________________________________________________________________________________\n",
            " Layer (type)                   Output Shape         Param #     Connected to                     \n",
            "==================================================================================================\n",
            " input_1 (InputLayer)           [(None, 78, 110, 86  0           []                               \n",
            "                                , 1)]                                                             \n",
            "                                                                                                  \n",
            " conv3d (Conv3D)                (None, 39, 55, 43,   22016       ['input_1[0][0]']                \n",
            "                                64)                                                               \n",
            "                                                                                                  \n",
            " batch_normalization (BatchNorm  (None, 39, 55, 43,   256        ['conv3d[0][0]']                 \n",
            " alization)                     64)                                                               \n",
            "                                                                                                  \n",
            " activation (Activation)        (None, 39, 55, 43,   0           ['batch_normalization[0][0]']    \n",
            "                                64)                                                               \n",
            "                                                                                                  \n",
            " max_pooling3d (MaxPooling3D)   (None, 20, 28, 22,   0           ['activation[0][0]']             \n",
            "                                64)                                                               \n",
            "                                                                                                  \n",
            " conv3d_1 (Conv3D)              (None, 20, 28, 22,   110656      ['max_pooling3d[0][0]']          \n",
            "                                64)                                                               \n",
            "                                                                                                  \n",
            " batch_normalization_1 (BatchNo  (None, 20, 28, 22,   256        ['conv3d_1[0][0]']               \n",
            " rmalization)                   64)                                                               \n",
            "                                                                                                  \n",
            " activation_1 (Activation)      (None, 20, 28, 22,   0           ['batch_normalization_1[0][0]']  \n",
            "                                64)                                                               \n",
            "                                                                                                  \n",
            " conv3d_2 (Conv3D)              (None, 20, 28, 22,   110656      ['activation_1[0][0]']           \n",
            "                                64)                                                               \n",
            "                                                                                                  \n",
            " add (Add)                      (None, 20, 28, 22,   0           ['max_pooling3d[0][0]',          \n",
            "                                64)                               'conv3d_2[0][0]']               \n",
            "                                                                                                  \n",
            " batch_normalization_2 (BatchNo  (None, 20, 28, 22,   256        ['add[0][0]']                    \n",
            " rmalization)                   64)                                                               \n",
            "                                                                                                  \n",
            " activation_2 (Activation)      (None, 20, 28, 22,   0           ['batch_normalization_2[0][0]']  \n",
            "                                64)                                                               \n",
            "                                                                                                  \n",
            " conv3d_3 (Conv3D)              (None, 20, 28, 22,   110656      ['activation_2[0][0]']           \n",
            "                                64)                                                               \n",
            "                                                                                                  \n",
            " batch_normalization_3 (BatchNo  (None, 20, 28, 22,   256        ['conv3d_3[0][0]']               \n",
            " rmalization)                   64)                                                               \n",
            "                                                                                                  \n",
            " activation_3 (Activation)      (None, 20, 28, 22,   0           ['batch_normalization_3[0][0]']  \n",
            "                                64)                                                               \n",
            "                                                                                                  \n",
            " conv3d_4 (Conv3D)              (None, 20, 28, 22,   110656      ['activation_3[0][0]']           \n",
            "                                64)                                                               \n",
            "                                                                                                  \n",
            " add_1 (Add)                    (None, 20, 28, 22,   0           ['add[0][0]',                    \n",
            "                                64)                               'conv3d_4[0][0]']               \n",
            "                                                                                                  \n",
            " batch_normalization_4 (BatchNo  (None, 20, 28, 22,   256        ['add_1[0][0]']                  \n",
            " rmalization)                   64)                                                               \n",
            "                                                                                                  \n",
            " activation_4 (Activation)      (None, 20, 28, 22,   0           ['batch_normalization_4[0][0]']  \n",
            "                                64)                                                               \n",
            "                                                                                                  \n",
            " conv3d_5 (Conv3D)              (None, 20, 28, 22,   110656      ['activation_4[0][0]']           \n",
            "                                64)                                                               \n",
            "                                                                                                  \n",
            " batch_normalization_5 (BatchNo  (None, 20, 28, 22,   256        ['conv3d_5[0][0]']               \n",
            " rmalization)                   64)                                                               \n",
            "                                                                                                  \n",
            " activation_5 (Activation)      (None, 20, 28, 22,   0           ['batch_normalization_5[0][0]']  \n",
            "                                64)                                                               \n",
            "                                                                                                  \n",
            " conv3d_6 (Conv3D)              (None, 20, 28, 22,   110656      ['activation_5[0][0]']           \n",
            "                                64)                                                               \n",
            "                                                                                                  \n",
            " add_2 (Add)                    (None, 20, 28, 22,   0           ['add_1[0][0]',                  \n",
            "                                64)                               'conv3d_6[0][0]']               \n",
            "                                                                                                  \n",
            " batch_normalization_6 (BatchNo  (None, 20, 28, 22,   256        ['add_2[0][0]']                  \n",
            " rmalization)                   64)                                                               \n",
            "                                                                                                  \n",
            " activation_6 (Activation)      (None, 20, 28, 22,   0           ['batch_normalization_6[0][0]']  \n",
            "                                64)                                                               \n",
            "                                                                                                  \n",
            " conv3d_7 (Conv3D)              (None, 10, 14, 11,   221312      ['activation_6[0][0]']           \n",
            "                                128)                                                              \n",
            "                                                                                                  \n",
            " batch_normalization_7 (BatchNo  (None, 10, 14, 11,   512        ['conv3d_7[0][0]']               \n",
            " rmalization)                   128)                                                              \n",
            "                                                                                                  \n",
            " activation_7 (Activation)      (None, 10, 14, 11,   0           ['batch_normalization_7[0][0]']  \n",
            "                                128)                                                              \n",
            "                                                                                                  \n",
            " conv3d_9 (Conv3D)              (None, 10, 14, 11,   8320        ['add_2[0][0]']                  \n",
            "                                128)                                                              \n",
            "                                                                                                  \n",
            " conv3d_8 (Conv3D)              (None, 10, 14, 11,   442496      ['activation_7[0][0]']           \n",
            "                                128)                                                              \n",
            "                                                                                                  \n",
            " add_3 (Add)                    (None, 10, 14, 11,   0           ['conv3d_9[0][0]',               \n",
            "                                128)                              'conv3d_8[0][0]']               \n",
            "                                                                                                  \n",
            " batch_normalization_8 (BatchNo  (None, 10, 14, 11,   512        ['add_3[0][0]']                  \n",
            " rmalization)                   128)                                                              \n",
            "                                                                                                  \n",
            " activation_8 (Activation)      (None, 10, 14, 11,   0           ['batch_normalization_8[0][0]']  \n",
            "                                128)                                                              \n",
            "                                                                                                  \n",
            " conv3d_10 (Conv3D)             (None, 10, 14, 11,   442496      ['activation_8[0][0]']           \n",
            "                                128)                                                              \n",
            "                                                                                                  \n",
            " batch_normalization_9 (BatchNo  (None, 10, 14, 11,   512        ['conv3d_10[0][0]']              \n",
            " rmalization)                   128)                                                              \n",
            "                                                                                                  \n",
            " activation_9 (Activation)      (None, 10, 14, 11,   0           ['batch_normalization_9[0][0]']  \n",
            "                                128)                                                              \n",
            "                                                                                                  \n",
            " conv3d_11 (Conv3D)             (None, 10, 14, 11,   442496      ['activation_9[0][0]']           \n",
            "                                128)                                                              \n",
            "                                                                                                  \n",
            " add_4 (Add)                    (None, 10, 14, 11,   0           ['add_3[0][0]',                  \n",
            "                                128)                              'conv3d_11[0][0]']              \n",
            "                                                                                                  \n",
            " batch_normalization_10 (BatchN  (None, 10, 14, 11,   512        ['add_4[0][0]']                  \n",
            " ormalization)                  128)                                                              \n",
            "                                                                                                  \n",
            " activation_10 (Activation)     (None, 10, 14, 11,   0           ['batch_normalization_10[0][0]'] \n",
            "                                128)                                                              \n",
            "                                                                                                  \n",
            " conv3d_12 (Conv3D)             (None, 10, 14, 11,   442496      ['activation_10[0][0]']          \n",
            "                                128)                                                              \n",
            "                                                                                                  \n",
            " batch_normalization_11 (BatchN  (None, 10, 14, 11,   512        ['conv3d_12[0][0]']              \n",
            " ormalization)                  128)                                                              \n",
            "                                                                                                  \n",
            " activation_11 (Activation)     (None, 10, 14, 11,   0           ['batch_normalization_11[0][0]'] \n",
            "                                128)                                                              \n",
            "                                                                                                  \n",
            " conv3d_13 (Conv3D)             (None, 10, 14, 11,   442496      ['activation_11[0][0]']          \n",
            "                                128)                                                              \n",
            "                                                                                                  \n",
            " add_5 (Add)                    (None, 10, 14, 11,   0           ['add_4[0][0]',                  \n",
            "                                128)                              'conv3d_13[0][0]']              \n",
            "                                                                                                  \n",
            " batch_normalization_12 (BatchN  (None, 10, 14, 11,   512        ['add_5[0][0]']                  \n",
            " ormalization)                  128)                                                              \n",
            "                                                                                                  \n",
            " activation_12 (Activation)     (None, 10, 14, 11,   0           ['batch_normalization_12[0][0]'] \n",
            "                                128)                                                              \n",
            "                                                                                                  \n",
            " conv3d_14 (Conv3D)             (None, 10, 14, 11,   442496      ['activation_12[0][0]']          \n",
            "                                128)                                                              \n",
            "                                                                                                  \n",
            " batch_normalization_13 (BatchN  (None, 10, 14, 11,   512        ['conv3d_14[0][0]']              \n",
            " ormalization)                  128)                                                              \n",
            "                                                                                                  \n",
            " activation_13 (Activation)     (None, 10, 14, 11,   0           ['batch_normalization_13[0][0]'] \n",
            "                                128)                                                              \n",
            "                                                                                                  \n",
            " conv3d_15 (Conv3D)             (None, 10, 14, 11,   442496      ['activation_13[0][0]']          \n",
            "                                128)                                                              \n",
            "                                                                                                  \n",
            " add_6 (Add)                    (None, 10, 14, 11,   0           ['add_5[0][0]',                  \n",
            "                                128)                              'conv3d_15[0][0]']              \n",
            "                                                                                                  \n",
            " batch_normalization_14 (BatchN  (None, 10, 14, 11,   512        ['add_6[0][0]']                  \n",
            " ormalization)                  128)                                                              \n",
            "                                                                                                  \n",
            " activation_14 (Activation)     (None, 10, 14, 11,   0           ['batch_normalization_14[0][0]'] \n",
            "                                128)                                                              \n",
            "                                                                                                  \n",
            " conv3d_16 (Conv3D)             (None, 5, 7, 6, 256  884992      ['activation_14[0][0]']          \n",
            "                                )                                                                 \n",
            "                                                                                                  \n",
            " batch_normalization_15 (BatchN  (None, 5, 7, 6, 256  1024       ['conv3d_16[0][0]']              \n",
            " ormalization)                  )                                                                 \n",
            "                                                                                                  \n",
            " activation_15 (Activation)     (None, 5, 7, 6, 256  0           ['batch_normalization_15[0][0]'] \n",
            "                                )                                                                 \n",
            "                                                                                                  \n",
            " conv3d_18 (Conv3D)             (None, 5, 7, 6, 256  33024       ['add_6[0][0]']                  \n",
            "                                )                                                                 \n",
            "                                                                                                  \n",
            " conv3d_17 (Conv3D)             (None, 5, 7, 6, 256  1769728     ['activation_15[0][0]']          \n",
            "                                )                                                                 \n",
            "                                                                                                  \n",
            " add_7 (Add)                    (None, 5, 7, 6, 256  0           ['conv3d_18[0][0]',              \n",
            "                                )                                 'conv3d_17[0][0]']              \n",
            "                                                                                                  \n",
            " batch_normalization_16 (BatchN  (None, 5, 7, 6, 256  1024       ['add_7[0][0]']                  \n",
            " ormalization)                  )                                                                 \n",
            "                                                                                                  \n",
            " activation_16 (Activation)     (None, 5, 7, 6, 256  0           ['batch_normalization_16[0][0]'] \n",
            "                                )                                                                 \n",
            "                                                                                                  \n",
            " conv3d_19 (Conv3D)             (None, 5, 7, 6, 256  1769728     ['activation_16[0][0]']          \n",
            "                                )                                                                 \n",
            "                                                                                                  \n",
            " batch_normalization_17 (BatchN  (None, 5, 7, 6, 256  1024       ['conv3d_19[0][0]']              \n",
            " ormalization)                  )                                                                 \n",
            "                                                                                                  \n",
            " activation_17 (Activation)     (None, 5, 7, 6, 256  0           ['batch_normalization_17[0][0]'] \n",
            "                                )                                                                 \n",
            "                                                                                                  \n",
            " conv3d_20 (Conv3D)             (None, 5, 7, 6, 256  1769728     ['activation_17[0][0]']          \n",
            "                                )                                                                 \n",
            "                                                                                                  \n",
            " add_8 (Add)                    (None, 5, 7, 6, 256  0           ['add_7[0][0]',                  \n",
            "                                )                                 'conv3d_20[0][0]']              \n",
            "                                                                                                  \n",
            " batch_normalization_18 (BatchN  (None, 5, 7, 6, 256  1024       ['add_8[0][0]']                  \n",
            " ormalization)                  )                                                                 \n",
            "                                                                                                  \n",
            " activation_18 (Activation)     (None, 5, 7, 6, 256  0           ['batch_normalization_18[0][0]'] \n",
            "                                )                                                                 \n",
            "                                                                                                  \n",
            " conv3d_21 (Conv3D)             (None, 5, 7, 6, 256  1769728     ['activation_18[0][0]']          \n",
            "                                )                                                                 \n",
            "                                                                                                  \n",
            " batch_normalization_19 (BatchN  (None, 5, 7, 6, 256  1024       ['conv3d_21[0][0]']              \n",
            " ormalization)                  )                                                                 \n",
            "                                                                                                  \n",
            " activation_19 (Activation)     (None, 5, 7, 6, 256  0           ['batch_normalization_19[0][0]'] \n",
            "                                )                                                                 \n",
            "                                                                                                  \n",
            " conv3d_22 (Conv3D)             (None, 5, 7, 6, 256  1769728     ['activation_19[0][0]']          \n",
            "                                )                                                                 \n",
            "                                                                                                  \n",
            " add_9 (Add)                    (None, 5, 7, 6, 256  0           ['add_8[0][0]',                  \n",
            "                                )                                 'conv3d_22[0][0]']              \n",
            "                                                                                                  \n",
            " batch_normalization_20 (BatchN  (None, 5, 7, 6, 256  1024       ['add_9[0][0]']                  \n",
            " ormalization)                  )                                                                 \n",
            "                                                                                                  \n",
            " activation_20 (Activation)     (None, 5, 7, 6, 256  0           ['batch_normalization_20[0][0]'] \n",
            "                                )                                                                 \n",
            "                                                                                                  \n",
            " conv3d_23 (Conv3D)             (None, 5, 7, 6, 256  1769728     ['activation_20[0][0]']          \n",
            "                                )                                                                 \n",
            "                                                                                                  \n",
            " batch_normalization_21 (BatchN  (None, 5, 7, 6, 256  1024       ['conv3d_23[0][0]']              \n",
            " ormalization)                  )                                                                 \n",
            "                                                                                                  \n",
            " activation_21 (Activation)     (None, 5, 7, 6, 256  0           ['batch_normalization_21[0][0]'] \n",
            "                                )                                                                 \n",
            "                                                                                                  \n",
            " conv3d_24 (Conv3D)             (None, 5, 7, 6, 256  1769728     ['activation_21[0][0]']          \n",
            "                                )                                                                 \n",
            "                                                                                                  \n",
            " add_10 (Add)                   (None, 5, 7, 6, 256  0           ['add_9[0][0]',                  \n",
            "                                )                                 'conv3d_24[0][0]']              \n",
            "                                                                                                  \n",
            " batch_normalization_22 (BatchN  (None, 5, 7, 6, 256  1024       ['add_10[0][0]']                 \n",
            " ormalization)                  )                                                                 \n",
            "                                                                                                  \n",
            " activation_22 (Activation)     (None, 5, 7, 6, 256  0           ['batch_normalization_22[0][0]'] \n",
            "                                )                                                                 \n",
            "                                                                                                  \n",
            " conv3d_25 (Conv3D)             (None, 5, 7, 6, 256  1769728     ['activation_22[0][0]']          \n",
            "                                )                                                                 \n",
            "                                                                                                  \n",
            " batch_normalization_23 (BatchN  (None, 5, 7, 6, 256  1024       ['conv3d_25[0][0]']              \n",
            " ormalization)                  )                                                                 \n",
            "                                                                                                  \n",
            " activation_23 (Activation)     (None, 5, 7, 6, 256  0           ['batch_normalization_23[0][0]'] \n",
            "                                )                                                                 \n",
            "                                                                                                  \n",
            " conv3d_26 (Conv3D)             (None, 5, 7, 6, 256  1769728     ['activation_23[0][0]']          \n",
            "                                )                                                                 \n",
            "                                                                                                  \n",
            " add_11 (Add)                   (None, 5, 7, 6, 256  0           ['add_10[0][0]',                 \n",
            "                                )                                 'conv3d_26[0][0]']              \n",
            "                                                                                                  \n",
            " batch_normalization_24 (BatchN  (None, 5, 7, 6, 256  1024       ['add_11[0][0]']                 \n",
            " ormalization)                  )                                                                 \n",
            "                                                                                                  \n",
            " activation_24 (Activation)     (None, 5, 7, 6, 256  0           ['batch_normalization_24[0][0]'] \n",
            "                                )                                                                 \n",
            "                                                                                                  \n",
            " conv3d_27 (Conv3D)             (None, 5, 7, 6, 256  1769728     ['activation_24[0][0]']          \n",
            "                                )                                                                 \n",
            "                                                                                                  \n",
            " batch_normalization_25 (BatchN  (None, 5, 7, 6, 256  1024       ['conv3d_27[0][0]']              \n",
            " ormalization)                  )                                                                 \n",
            "                                                                                                  \n",
            " activation_25 (Activation)     (None, 5, 7, 6, 256  0           ['batch_normalization_25[0][0]'] \n",
            "                                )                                                                 \n",
            "                                                                                                  \n",
            " conv3d_28 (Conv3D)             (None, 5, 7, 6, 256  1769728     ['activation_25[0][0]']          \n",
            "                                )                                                                 \n",
            "                                                                                                  \n",
            " add_12 (Add)                   (None, 5, 7, 6, 256  0           ['add_11[0][0]',                 \n",
            "                                )                                 'conv3d_28[0][0]']              \n",
            "                                                                                                  \n",
            " batch_normalization_26 (BatchN  (None, 5, 7, 6, 256  1024       ['add_12[0][0]']                 \n",
            " ormalization)                  )                                                                 \n",
            "                                                                                                  \n",
            " activation_26 (Activation)     (None, 5, 7, 6, 256  0           ['batch_normalization_26[0][0]'] \n",
            "                                )                                                                 \n",
            "                                                                                                  \n",
            " conv3d_29 (Conv3D)             (None, 3, 4, 3, 512  3539456     ['activation_26[0][0]']          \n",
            "                                )                                                                 \n",
            "                                                                                                  \n",
            " batch_normalization_27 (BatchN  (None, 3, 4, 3, 512  2048       ['conv3d_29[0][0]']              \n",
            " ormalization)                  )                                                                 \n",
            "                                                                                                  \n",
            " activation_27 (Activation)     (None, 3, 4, 3, 512  0           ['batch_normalization_27[0][0]'] \n",
            "                                )                                                                 \n",
            "                                                                                                  \n",
            " conv3d_31 (Conv3D)             (None, 3, 4, 3, 512  131584      ['add_12[0][0]']                 \n",
            "                                )                                                                 \n",
            "                                                                                                  \n",
            " conv3d_30 (Conv3D)             (None, 3, 4, 3, 512  7078400     ['activation_27[0][0]']          \n",
            "                                )                                                                 \n",
            "                                                                                                  \n",
            " add_13 (Add)                   (None, 3, 4, 3, 512  0           ['conv3d_31[0][0]',              \n",
            "                                )                                 'conv3d_30[0][0]']              \n",
            "                                                                                                  \n",
            " batch_normalization_28 (BatchN  (None, 3, 4, 3, 512  2048       ['add_13[0][0]']                 \n",
            " ormalization)                  )                                                                 \n",
            "                                                                                                  \n",
            " activation_28 (Activation)     (None, 3, 4, 3, 512  0           ['batch_normalization_28[0][0]'] \n",
            "                                )                                                                 \n",
            "                                                                                                  \n",
            " conv3d_32 (Conv3D)             (None, 3, 4, 3, 512  7078400     ['activation_28[0][0]']          \n",
            "                                )                                                                 \n",
            "                                                                                                  \n",
            " batch_normalization_29 (BatchN  (None, 3, 4, 3, 512  2048       ['conv3d_32[0][0]']              \n",
            " ormalization)                  )                                                                 \n",
            "                                                                                                  \n",
            " activation_29 (Activation)     (None, 3, 4, 3, 512  0           ['batch_normalization_29[0][0]'] \n",
            "                                )                                                                 \n",
            "                                                                                                  \n",
            " conv3d_33 (Conv3D)             (None, 3, 4, 3, 512  7078400     ['activation_29[0][0]']          \n",
            "                                )                                                                 \n",
            "                                                                                                  \n",
            " add_14 (Add)                   (None, 3, 4, 3, 512  0           ['add_13[0][0]',                 \n",
            "                                )                                 'conv3d_33[0][0]']              \n",
            "                                                                                                  \n",
            " batch_normalization_30 (BatchN  (None, 3, 4, 3, 512  2048       ['add_14[0][0]']                 \n",
            " ormalization)                  )                                                                 \n",
            "                                                                                                  \n",
            " activation_30 (Activation)     (None, 3, 4, 3, 512  0           ['batch_normalization_30[0][0]'] \n",
            "                                )                                                                 \n",
            "                                                                                                  \n",
            " conv3d_34 (Conv3D)             (None, 3, 4, 3, 512  7078400     ['activation_30[0][0]']          \n",
            "                                )                                                                 \n",
            "                                                                                                  \n",
            " batch_normalization_31 (BatchN  (None, 3, 4, 3, 512  2048       ['conv3d_34[0][0]']              \n",
            " ormalization)                  )                                                                 \n",
            "                                                                                                  \n",
            " activation_31 (Activation)     (None, 3, 4, 3, 512  0           ['batch_normalization_31[0][0]'] \n",
            "                                )                                                                 \n",
            "                                                                                                  \n",
            " conv3d_35 (Conv3D)             (None, 3, 4, 3, 512  7078400     ['activation_31[0][0]']          \n",
            "                                )                                                                 \n",
            "                                                                                                  \n",
            " add_15 (Add)                   (None, 3, 4, 3, 512  0           ['add_14[0][0]',                 \n",
            "                                )                                 'conv3d_35[0][0]']              \n",
            "                                                                                                  \n",
            " batch_normalization_32 (BatchN  (None, 3, 4, 3, 512  2048       ['add_15[0][0]']                 \n",
            " ormalization)                  )                                                                 \n",
            "                                                                                                  \n",
            " activation_32 (Activation)     (None, 3, 4, 3, 512  0           ['batch_normalization_32[0][0]'] \n",
            "                                )                                                                 \n",
            "                                                                                                  \n",
            " average_pooling3d (AveragePool  (None, 1, 1, 1, 512  0          ['activation_32[0][0]']          \n",
            " ing3D)                         )                                                                 \n",
            "                                                                                                  \n",
            " flatten (Flatten)              (None, 512)          0           ['average_pooling3d[0][0]']      \n",
            "                                                                                                  \n",
            " dense_1 (Dense)                (None, 512)          262656      ['flatten[0][0]']                \n",
            "                                                                                                  \n",
            " dropout (Dropout)              (None, 512)          0           ['dense_1[0][0]']                \n",
            "                                                                                                  \n",
            " dense_2 (Dense)                (None, 3)            1539        ['dropout[0][0]']                \n",
            "                                                                                                  \n",
            "==================================================================================================\n",
            "Total params: 63,755,779\n",
            "Trainable params: 63,740,547\n",
            "Non-trainable params: 15,232\n",
            "__________________________________________________________________________________________________\n"
          ]
        }
      ],
      "source": [
        "model.summary()"
      ]
    },
    {
      "cell_type": "code",
      "execution_count": null,
      "metadata": {
        "id": "SmxmKxF4udm0"
      },
      "outputs": [],
      "source": [
        "optimizer = tf.keras.optimizers.Adam(learning_rate=0.001)\n",
        "model.compile(optimizer=optimizer, \n",
        "              loss='categorical_crossentropy', \n",
        "              metrics=['acc'])"
      ]
    },
    {
      "cell_type": "markdown",
      "metadata": {
        "id": "Dg4rC14oujKX"
      },
      "source": [
        "Fase di ottimizzazione dei parametri.\n",
        "\n",
        "**ADAM** rappresenta un metodo di discesa dei gradienti stocastico basato su stima adattiva dei momenti del primo e secordo ordine.\n",
        "**categorical_crossentropy**: Rappresena la funzione di perdita, ovvero la quantità che un modello dovrebbe cercare di ridurra al minimo durante la fase di addestramento.\n",
        "\n",
        "**metrics=['acc']**: Utilizzato per valutare le prestazioni del modello realizzato."
      ]
    },
    {
      "cell_type": "code",
      "execution_count": null,
      "metadata": {
        "id": "NY6HqE5XvPNQ"
      },
      "outputs": [],
      "source": [
        "ciclo=n_val_samples\n",
        "val_tensor = dataset_parser(validation_tfrec, ciclo,preprocessing_fn=whitening_fn) "
      ]
    },
    {
      "cell_type": "code",
      "execution_count": null,
      "metadata": {
        "colab": {
          "base_uri": "https://localhost:8080/"
        },
        "id": "-byPk_2a56t1",
        "outputId": "acb7a7c5-53ea-49e2-99ae-01549b51fe3a"
      },
      "outputs": [
        {
          "output_type": "stream",
          "name": "stdout",
          "text": [
            "Epoch 1/5\n",
            "91/91 - 97s - loss: 21.9793 - acc: 0.5311 - val_loss: 1.8494 - val_acc: 0.6385 - 97s/epoch - 1s/step\n",
            "Epoch 2/5\n",
            "91/91 - 86s - loss: 1.5197 - acc: 0.5687 - val_loss: 1.8666 - val_acc: 0.6385 - 86s/epoch - 945ms/step\n",
            "Epoch 3/5\n",
            "91/91 - 86s - loss: 1.3029 - acc: 0.5771 - val_loss: 1.2182 - val_acc: 0.6385 - 86s/epoch - 940ms/step\n",
            "Epoch 4/5\n",
            "91/91 - 85s - loss: 1.2360 - acc: 0.5764 - val_loss: 5.2119 - val_acc: 0.6385 - 85s/epoch - 935ms/step\n",
            "Epoch 5/5\n"
          ]
        },
        {
          "output_type": "stream",
          "name": "stderr",
          "text": [
            "WARNING:tensorflow:Your input ran out of data; interrupting training. Make sure that your dataset or generator can generate at least `steps_per_epoch * epochs` batches (in this case, 455 batches). You may need to use the repeat() function when building your dataset.\n"
          ]
        },
        {
          "output_type": "stream",
          "name": "stdout",
          "text": [
            "91/91 - 68s - loss: 1.2455 - acc: 0.5756 - val_loss: 1.2243 - val_acc: 0.6385 - 68s/epoch - 745ms/step\n"
          ]
        }
      ],
      "source": [
        "callback = EarlyStoppingByLossVal(value=1.1)\n",
        "##\n",
        "history = model.fit(x=image_tensor, y=label_tensor, \n",
        "                    epochs=5, steps_per_epoch=STEPS_PER_EPOCH, \n",
        "                    validation_data=val_tensor, \n",
        "                    validation_steps=VALIDATION_STEPS,\n",
        "                    callbacks=[callback],\n",
        "                    verbose=2)"
      ]
    },
    {
      "cell_type": "markdown",
      "metadata": {
        "id": "tPYG2e_4vbRP"
      },
      "source": [
        "Addestramento vero e proprio del modello.\n",
        "Un callback è un oggetto che può eseguire azioni in varie fasi dell'addestramento (ad esempio all'inizio o alla fine di un'epoca, prima o dopo un singolo batch, ecc.).\n",
        "Lista dei valori fondamentali:\n",
        "1. **loss**:  il valore che una rete neurale sta cercando di minimizzare: è la distanza tra la verità fondamentale e le previsioni. Per ridurre al minimo questa distanza, la rete neurale apprende regolando pesi e distorsioni in modo da ridurre la perdita .\n",
        "2. **loss** e **val_loss** differiscono perché il primo è applicato al convoglio e il secondo al convoglio di prova. In quanto tale, quest'ultimo è una buona indicazione di come si comporta il modello su dati invisibili.\n",
        "3. **acc**: La precisione è una metrica solo per la classificazione.\n",
        "4. **acc** e **val_acc**: acc sui dati di addestramento e val_acc sui dati di convalida. È meglio fare affidamento su val_acc una rappresentazione equa delle prestazioni del modello perché una buona rete neurale finirà per adattare i dati di addestramento al 100%, ma funzionerebbe male su dati invisibili.\n",
        "5. **epoch** : Limite arbitrario. Generalmente definito come \"passaggio sull'intero set di dati\". Utilizzato per separare l'addestramento in fase distinte, utile per la registrazione e la valutazione periodica.\n",
        "6. **steps_per_epoch**: numero di passaggi per epoch."
      ]
    },
    {
      "cell_type": "code",
      "execution_count": null,
      "metadata": {
        "colab": {
          "base_uri": "https://localhost:8080/",
          "height": 519
        },
        "id": "B67AxqzMgfUa",
        "outputId": "664ac1d6-3b10-489e-fae1-69a851a75baa"
      },
      "outputs": [
        {
          "output_type": "display_data",
          "data": {
            "text/plain": [
              "<Figure size 1440x576 with 2 Axes>"
            ],
            "image/png": "[encoded data removed]"
          },
          "metadata": {
            "needs_background": "light"
          }
        }
      ],
      "source": [
        "plot_training(history, 'Training vs epochs - 34 layers')"
      ]
    },
    {
      "cell_type": "code",
      "execution_count": null,
      "metadata": {
        "id": "VlkRbk2YguNQ"
      },
      "outputs": [],
      "source": [
        "# salvo il modello creato\n",
        "MC_CHECKPOINT = 'multiclass_resnet_34_3d_trained_regfactor003'\n",
        "model_file = os.path.join(DB_MODELS, MC_CHECKPOINT) + '.h5'\n",
        "model.save(model_file)\n",
        "#model = tf.keras.models.load_model(model_file)"
      ]
    },
    {
      "cell_type": "code",
      "execution_count": null,
      "metadata": {
        "id": "egeW0QRwg0gQ"
      },
      "outputs": [],
      "source": [
        "ciclo = n_val_samples\n",
        "images, labels = get_data_for_predict(validation_tfrec, ciclo,_decode, preprocessing_fn=whitening_fn)"
      ]
    },
    {
      "cell_type": "code",
      "execution_count": null,
      "metadata": {
        "colab": {
          "base_uri": "https://localhost:8080/"
        },
        "id": "elygXSVAg6h4",
        "outputId": "62ec1e7e-5bca-4e52-ffe1-c7769dbaa887"
      },
      "outputs": [
        {
          "output_type": "stream",
          "name": "stdout",
          "text": [
            "9/9 [==============================] - 4s 439ms/step\n",
            "{\n",
            "    \"CN\": {\n",
            "        \"precision\": 0.0,\n",
            "        \"recall\": 0.0,\n",
            "        \"f1-score\": 0.0,\n",
            "        \"support\": 67\n",
            "    },\n",
            "    \"MCI\": {\n",
            "        \"precision\": 0.6384615384615384,\n",
            "        \"recall\": 1.0,\n",
            "        \"f1-score\": 0.7793427230046948,\n",
            "        \"support\": 166\n",
            "    },\n",
            "    \"AD\": {\n",
            "        \"precision\": 0.0,\n",
            "        \"recall\": 0.0,\n",
            "        \"f1-score\": 0.0,\n",
            "        \"support\": 27\n",
            "    },\n",
            "    \"accuracy\": 0.6384615384615384,\n",
            "    \"macro avg\": {\n",
            "        \"precision\": 0.2128205128205128,\n",
            "        \"recall\": 0.3333333333333333,\n",
            "        \"f1-score\": 0.2597809076682316,\n",
            "        \"support\": 260\n",
            "    },\n",
            "    \"weighted avg\": {\n",
            "        \"precision\": 0.40763313609467455,\n",
            "        \"recall\": 0.6384615384615384,\n",
            "        \"f1-score\": 0.497580353918382,\n",
            "        \"support\": 260\n",
            "    }\n",
            "}\n"
          ]
        },
        {
          "output_type": "stream",
          "name": "stderr",
          "text": [
            "/usr/local/lib/python3.7/dist-packages/sklearn/metrics/_classification.py:1318: UndefinedMetricWarning: Precision and F-score are ill-defined and being set to 0.0 in labels with no predicted samples. Use `zero_division` parameter to control this behavior.\n",
            "  _warn_prf(average, modifier, msg_start, len(result))\n",
            "/usr/local/lib/python3.7/dist-packages/sklearn/metrics/_classification.py:1318: UndefinedMetricWarning: Precision and F-score are ill-defined and being set to 0.0 in labels with no predicted samples. Use `zero_division` parameter to control this behavior.\n",
            "  _warn_prf(average, modifier, msg_start, len(result))\n",
            "/usr/local/lib/python3.7/dist-packages/sklearn/metrics/_classification.py:1318: UndefinedMetricWarning: Precision and F-score are ill-defined and being set to 0.0 in labels with no predicted samples. Use `zero_division` parameter to control this behavior.\n",
            "  _warn_prf(average, modifier, msg_start, len(result))\n"
          ]
        }
      ],
      "source": [
        "classification_report(model, images, labels, LABELS, 'classification_report - 34 layers')"
      ]
    },
    {
      "cell_type": "code",
      "execution_count": null,
      "metadata": {
        "colab": {
          "base_uri": "https://localhost:8080/",
          "height": 677
        },
        "id": "QSxJI1zr273s",
        "outputId": "c0376bd3-6c60-4eea-a008-1453afc381f9"
      },
      "outputs": [
        {
          "output_type": "stream",
          "name": "stdout",
          "text": [
            "9/9 [==============================] - 4s 443ms/step\n"
          ]
        },
        {
          "output_type": "stream",
          "name": "stderr",
          "text": [
            "/usr/local/lib/python3.7/dist-packages/ipykernel_launcher.py:33: DeprecationWarning: scipy.interp is deprecated and will be removed in SciPy 2.0.0, use numpy.interp instead\n"
          ]
        },
        {
          "output_type": "display_data",
          "data": {
            "text/plain": [
              "<Figure size 720x720 with 1 Axes>"
            ],
            "image/png": "[encoded data removed]"
          },
          "metadata": {
            "needs_background": "light"
          }
        }
      ],
      "source": [
        "compute_auc(model, images, labels, ['CN', 'MCI', 'AD'], title='AUC 34 layers')"
      ]
    },
    {
      "cell_type": "markdown",
      "metadata": {
        "id": "nBOg7XXEhbag"
      },
      "source": [
        "Nel grafico appena riportato abbiamo la verifica del ROC (Falsi positivi e negativi)."
      ]
    },
    {
      "cell_type": "markdown",
      "metadata": {
        "id": "RPITJmkoXLhX"
      },
      "source": [
        "## Creazione modello con architettura VGG-16"
      ]
    },
    {
      "cell_type": "markdown",
      "metadata": {
        "id": "qZBIQ-prPMck"
      },
      "source": [
        "Definizione del modello VGG con 16 layer"
      ]
    },
    {
      "cell_type": "code",
      "execution_count": null,
      "metadata": {
        "id": "nMFAHbKfPKJq"
      },
      "outputs": [],
      "source": [
        "def vgg(input_shape, n_classes):\n",
        "  #numero di parametri:\n",
        "  input = Input(input_shape)\n",
        "  # 64 indica il numero di filtri di output della convoluzione\n",
        "  #3 profondità, l'altezza e la larghezza\n",
        "  x = Conv3D(64, 3, padding='same', activation='relu',data_format=\"channels_last\")(input)\n",
        "  x = Conv3D(64, 3, padding='same', activation='relu')(x)\n",
        "  x = MaxPooling3D(pool_size=(2, 2, 2) , padding='same')(x)\n",
        "  \n",
        "  x = Conv3D(128, 3, padding='same', activation='relu')(x)\n",
        "  x = Conv3D(128, 3, padding='same', activation='relu')(x)\n",
        "  x = MaxPooling3D(pool_size=(2, 2, 2), padding='same')(x)\n",
        "  \n",
        "  x = Conv3D(256, 3, padding='same', activation='relu')(x)\n",
        "  x = Conv3D(256, 3, padding='same', activation='relu')(x)\n",
        "  x = Conv3D(256, 3, padding='same', activation='relu')(x)\n",
        "  x = MaxPooling3D(pool_size=(2,2, 2), padding='same')(x)\n",
        "  \n",
        "  x = Conv3D(512, 3, padding='same', activation='relu')(x)\n",
        "  x = Conv3D(512, 3, padding='same', activation='relu')(x)\n",
        "  x = Conv3D(512, 3, padding='same', activation='relu')(x)\n",
        "  x = MaxPooling3D(pool_size=(2, 2, 2), padding='same')(x)\n",
        "  \n",
        "  x = Conv3D(512, 3, padding='same', activation='relu')(x)\n",
        "  x = Conv3D(512, 3, padding='same', activation='relu')(x)\n",
        "  x = Conv3D(512, 3, padding='same', activation='relu')(x)\n",
        "  x = MaxPooling3D(pool_size=(2, 2, 2), padding='same')(x)\n",
        "  x = Flatten()(x)\n",
        "  x = Dense(4096, activation='relu')(x)\n",
        "  x = Dense(4096, activation='relu')(x)\n",
        "  output = Dense(n_classes, activation='softmax')(x)\n",
        "  \n",
        "  model = Model(input, output)\n",
        "  return model"
      ]
    },
    {
      "cell_type": "markdown",
      "metadata": {
        "id": "1oDdyHfFPuda"
      },
      "source": [
        "Riporto alcuni aspetti chiave per l'addestramento del modello:\n",
        "\n",
        "1. **Conv3D**: Strato di convoluzione 3D/2D (ad es. convoluzione spaziale su volumi).Questo livello crea un kernel di convoluzione che viene convogliato con l'input del livello per produrre un tensore di output.\n",
        "\n",
        "2. **MaxPool3D**:Max operazione di pooling per dati spaziali 2D.Esegue il downsampling dell'input lungo le sue dimensioni spaziali (altezza e larghezza) prendendo il valore massimo su una finestra di input (di dimensioni definite da pool_size) per ciascun canale dell'input. La finestra viene spostata strideslungo ogni dimensione.\n",
        "\n",
        "3. **Flatten**:Appiattisce l'input. Non influisce sulla dimensione del lotto.\n",
        "\n",
        "4. **Dense**: Normale livello di rete neurale profondamento connesso. Questo rappresenta il livello più comune e utilizzato di frequente. Nel layer dense ogni neurone riceve input da tutti i neuroni dallo stato precedente. Il layer Dense è utilizzato per la classificazione di immagini in base all'output dei livelli convoluzionali.\n",
        "\n",
        "5. **Dropout**: E' una tecnica di regolarizzazione. Prevede l'omissione dei neuroni che agiscono come rilevatori di caratteristiche della rete neurale durante ogni fase di addestramento. L'esclusione è determinata causalmente. L'obiettivo del dropout è anche quello di ridurre a minimo l'effetto dell'overfitting."
      ]
    },
    {
      "cell_type": "code",
      "execution_count": null,
      "metadata": {
        "id": "nC-eA1ocQJU5"
      },
      "outputs": [],
      "source": [
        "Model_vgg_3D=vgg(IMG_SHAPE,n_classes=3)"
      ]
    },
    {
      "cell_type": "code",
      "execution_count": null,
      "metadata": {
        "id": "lLy_5W8LQa24"
      },
      "outputs": [],
      "source": [
        "Model_vgg_3D.compile(loss='categorical_crossentropy',optimizer=tf.keras.optimizers.RMSprop(learning_rate=1e-4),metrics=['acc'])"
      ]
    },
    {
      "cell_type": "code",
      "execution_count": null,
      "metadata": {
        "id": "MkgzrvFxQh1-"
      },
      "outputs": [],
      "source": [
        "Model_vgg_3D.summary()"
      ]
    },
    {
      "cell_type": "markdown",
      "metadata": {
        "id": "6VWAzIDBQroE"
      },
      "source": [
        "Prima di addestrare il modello impostiamo i seguenti metodi:\n",
        "\n",
        "1. **loss**: Lo scopo delle funzioni di perdita è calcolare la quantità che un modello dovrebbe cercare di ridurre al minimo durante l'addestramento. Impostiamo binary_crossentropy in quanto abbiamo solo due categorie (cane e gatto)\n",
        "\n",
        "2. **optimizer RMSprop**: Ottimizzatore che implementa l'algoritmo RMSprop. L'essenza di RMSprop è:\n",
        "\n",
        "  * Mantenere una media mobile (scontata) del quadrato dei gradienti\n",
        "  * Dividi il gradiente per la radice di questa media Questa implementazione di RMSprop utilizza lo slancio semplice, non lo slancio Nesterov.La versione centrata mantiene inoltre una media mobile dei gradienti e utilizza tale media per stimare la varianza."
      ]
    },
    {
      "cell_type": "code",
      "execution_count": null,
      "metadata": {
        "colab": {
          "base_uri": "https://localhost:8080/"
        },
        "id": "6ike4pYHzM2c",
        "outputId": "4a437889-4fa2-4848-c483-9d463a09c4aa"
      },
      "outputs": [
        {
          "output_type": "stream",
          "name": "stdout",
          "text": [
            "Epoch 1/5\n",
            "1091/1091 [==============================] - 1075s 975ms/step - loss: 1.1949 - acc: 0.5820 - val_loss: 0.9203 - val_acc: 0.6385\n",
            "Epoch 2/5\n",
            "1091/1091 [==============================] - 1036s 949ms/step - loss: 0.9657 - acc: 0.5834 - val_loss: 0.8751 - val_acc: 0.6385\n",
            "Epoch 3/5\n",
            "1091/1091 [==============================] - 1034s 948ms/step - loss: 0.9564 - acc: 0.5852 - val_loss: 0.8761 - val_acc: 0.6385\n",
            "Epoch 4/5\n",
            " 417/1091 [==========>...................] - ETA: 10:21 - loss: 0.9937 - acc: 0.5815"
          ]
        },
        {
          "output_type": "stream",
          "name": "stderr",
          "text": [
            "WARNING:tensorflow:Your input ran out of data; interrupting training. Make sure that your dataset or generator can generate at least `steps_per_epoch * epochs` batches (in this case, 5455 batches). You may need to use the repeat() function when building your dataset.\n"
          ]
        },
        {
          "output_type": "stream",
          "name": "stdout",
          "text": [
            "\b\b\b\b\b\b\b\b\b\b\b\b\b\b\b\b\b\b\b\b\b\b\b\b\b\b\b\b\b\b\b\b\b\b\b\b\b\b\b\b\b\b\b\b\b\b\b\b\b\b\b\b\b\b\b\b\b\b\b\b\b\b\b\b\b\b\b\b\b\b\b\b\b\b\b\b\b\b\b\b\b\b\b\b\r1091/1091 [==============================] - 417s 382ms/step - loss: 0.9937 - acc: 0.5815 - val_loss: 0.8776 - val_acc: 0.6385\n"
          ]
        }
      ],
      "source": [
        "#\n",
        "train_model_VGG3D = Model_vgg_3D.fit(x=image_tensor, y=label_tensor, \n",
        "                    epochs=5, steps_per_epoch=STEPS_PER_EPOCH+1000, \n",
        "                    validation_data=val_tensor, \n",
        "                    validation_steps=VALIDATION_STEPS,\n",
        "                    verbose=1)"
      ]
    },
    {
      "cell_type": "code",
      "source": [
        "# salvo il modello creato\n",
        "MC_CHECKPOINT = 'multiclass_vgg_16_trained_regfactor003'\n",
        "model_file = os.path.join(DB_MODELS, MC_CHECKPOINT) + '.h5'\n",
        "Model_vgg_3D.save(model_file)\n",
        "#model = tf.keras.models.load_model(model_file)"
      ],
      "metadata": {
        "id": "-Ft2Rjwh0qfI"
      },
      "execution_count": null,
      "outputs": []
    },
    {
      "cell_type": "code",
      "source": [
        "plot_training(train_model_VGG3D, 'Training vs epochs - 16 layers')"
      ],
      "metadata": {
        "colab": {
          "base_uri": "https://localhost:8080/",
          "height": 519
        },
        "id": "qt2sZNM414Jq",
        "outputId": "a7c55926-ecd8-42b3-d5bf-def4d4bd0e74"
      },
      "execution_count": null,
      "outputs": [
        {
          "output_type": "display_data",
          "data": {
            "text/plain": [
              "<Figure size 1440x576 with 2 Axes>"
            ],
            "image/png": "[encoded data removed]"
          },
          "metadata": {
            "needs_background": "light"
          }
        }
      ]
    },
    {
      "cell_type": "markdown",
      "source": [
        "## Confronto ResNet3D e VGG-16"
      ],
      "metadata": {
        "id": "sNZmwp1Z9T29"
      }
    },
    {
      "cell_type": "markdown",
      "source": [
        "Prima di mostrare i risultati ottenuti confrontando le due reti neurali costruite **\"ResNet3D\"** e **VGG-16** riassumiamo, in breve, cosa è stato fatto in questo notebook:\n",
        "\n",
        "\n",
        "\n",
        "*   **Dataset**: Abbiamo lavorato su un set di **2042 immagini** di tipo **MRI** con estensione .nii cosi ditribuite:\n",
        "\n",
        "    1.   **MCI** (mild cognitive impairment): 1206 immagini;\n",
        "    2.   **AD** (Alzheimer's disease): 269 immagini;\n",
        "    3.   **CN** (cognitively normal): 567 immagini;\n",
        "\n",
        "    Le immagini sono state scaricate dal sito **ADNI** (Alzheimer's Disease Neuroimaging initiative)\n",
        "\n",
        "*   **Fase di preprocessing** : In questa fase abbiamo processato e registrato le immagini.\n",
        "\n",
        "  Gli aspetti tratti sono stati i seguenti:\n",
        "\n",
        "    1.   Normalizzazione delle immagini;\n",
        "    2.   Ricampionamento delle immagini;\n",
        "    3.   Registrazione in base ad un'atlas di riferimento;\n",
        "    4.   Rimozione della parte relativa al craino (cosi da consentire all'addestramento dell'algoritmo di lavorare con maggiore precisione);\n",
        "\n",
        "*   Creazione del database **TFRecord**:\n",
        " \n",
        "    Per migliorare le prestazioni nella fase di addestramento del modello abbiamo costruito un database di tipo TF. L'utilizzo del TFRecord ci permette di memorizzare una sequenza di record binari. E' progettato per l'uso con tensorflow e viene utilizzato in tutte le API di livello superiore come TFX.\n",
        "    \n",
        "*   Costruzione del modello di apprendimento, basato sulle reti neurali **ResNet3D** e **VGG-16**.\n",
        "\n",
        "Mostriamo i risultati ottenuti dalle due fasi di addestramento:\n",
        "\n",
        "***ResNet3D***:\n",
        "\n",
        "*91/91 - 68s - loss: 1.2455 - acc: 0.5756 - val_loss: 1.2243 - val_acc: 0.6385*\n",
        "\n",
        "***VGG-16***:\n",
        "\n",
        "*1091/1091 loss: 0.9937 - acc: 0.5815 - val_loss: 0.8776 - val_acc: 0.6385*\n",
        "\n",
        "Come si può notare il val_acc (valore accuratezza) di entrambe le reti si attesta su **0.6385**.\n",
        "Per gli altri parametri, anche se la differenza risulta essere minima, la VGG sembra lavorare meglio.\n",
        "\n",
        "Da questo studio però si è evidenziato molto il limite computazionale quando si lavora con il deepLearning.\n",
        "Infatti, anche se è stato previsto l'abbonamento a **colab pro**, che ci consente di ottenere RAM/GPU maggiore, abbiamo avuto non pochi problemi a consentire l'addestramento delle reti.\n",
        "In particolare, la VGG ha tempi di addestramento sicuramente maggiori e più volte ci siamo trovati a gestire valore di  out of memory.\n",
        "Per ovviare a questi problemi, oltre ad aumentare le risorse per l'addestramento, abbiamo regolato ad-hoc i parametri di epochs e steps_per_epoch.\n",
        "\n",
        "Altro limite molto importante è anche dovuta alla quantità di immagini necessarie per addestrare il modello.\n",
        "Per questo lavoro abbiamo lavorato su 2042 immagini che occupano uno spazio di circa 40 Giga.\n",
        "Per questo studio tale quantità può anche bastare, ma è ovvio che nel caso in cui volessimo realizzare un modello più preciso è necessario estrarre un numero maggiore di immagini che richiederebbero sicuramente uno spazio Disco e Ram maggiore (attualmente non disponibile con colab pro).\n",
        "\n",
        "Quindi, in conclusione, la rete neurale VGG-16 sembra ottenere prestazioni maggiori, ma è sicuramente necessario e prioritario superare i problemi infrastrutturali."
      ],
      "metadata": {
        "id": "7VdZUUtn53Lo"
      }
    }
  ],
  "metadata": {
    "accelerator": "GPU",
    "colab": {
      "collapsed_sections": [],
      "machine_shape": "hm",
      "toc_visible": true,
      "provenance": [],
      "include_colab_link": true
    },
    "gpuClass": "standard",
    "kernelspec": {
      "display_name": "Python 3",
      "language": "python",
      "name": "python3"
    },
    "language_info": {
      "codemirror_mode": {
        "name": "ipython",
        "version": 3
      },
      "file_extension": ".py",
      "mimetype": "text/x-python",
      "name": "python",
      "nbconvert_exporter": "python",
      "pygments_lexer": "ipython3",
      "version": "3.8.10"
    }
  },
  "nbformat": 4,
  "nbformat_minor": 0
}